{
 "cells": [
  {
   "cell_type": "code",
   "execution_count": 1,
   "metadata": {},
   "outputs": [],
   "source": [
    "# Basic\n",
    "from collections import Counter\n",
    "import math\n",
    "import numpy as np\n",
    "import os\n",
    "import pprint\n",
    "\n",
    "# yaml specific\n",
    "import yaml\n",
    "\n",
    "# Data handling\n",
    "import pandas as pd\n",
    "from tqdm import tqdm"
   ]
  },
  {
   "cell_type": "code",
   "execution_count": 2,
   "metadata": {},
   "outputs": [],
   "source": [
    "# Config variables\n",
    "raw_data_path = \"raw_data\"\n",
    "clean_data_path = \"clean_data\"\n",
    "tournament_name = \"IPL\""
   ]
  },
  {
   "cell_type": "markdown",
   "metadata": {},
   "source": [
    "### Utility functions. "
   ]
  },
  {
   "cell_type": "code",
   "execution_count": 3,
   "metadata": {},
   "outputs": [],
   "source": [
    "def get_clean_teams(major_teams):\n",
    "    # remove bad chars from string\n",
    "    bad_chars = [';', ':', '!', \"*\", \"'\", '\"', '[', ']', ',']\n",
    "    teams = []\n",
    "    for team in major_teams.split(\", \"):\n",
    "        for char in bad_chars:\n",
    "            team = team.replace(char, \"\")\n",
    "        teams.append(team.strip().rstrip())\n",
    "    return teams"
   ]
  },
  {
   "cell_type": "markdown",
   "metadata": {},
   "source": [
    "# This notebook will be used to curate 4 tables. \n",
    "## 1) Country 2) Tournament 3) Team 4) Player\n",
    "### Initially handling everything through CSVs. Later, we will see if using a DB is required"
   ]
  },
  {
   "cell_type": "code",
   "execution_count": 4,
   "metadata": {},
   "outputs": [
    {
     "name": "stderr",
     "output_type": "stream",
     "text": [
      "C:\\Users\\aniru\\miniconda3\\envs\\torch\\lib\\site-packages\\IPython\\core\\interactiveshell.py:3146: DtypeWarning: Columns (101,107,108,140,141,145,146,147,153,154,158,159,160) have mixed types.Specify dtype option on import or set low_memory=False.\n",
      "  has_raised = await self.run_ast_nodes(code_ast.body, cell_name,\n"
     ]
    }
   ],
   "source": [
    "players = pd.read_csv(\"raw_data/players.csv\")\n",
    "players = players.loc[:, ~players.columns.str.contains('^Unnamed')]"
   ]
  },
  {
   "cell_type": "markdown",
   "metadata": {},
   "source": [
    "## Country table"
   ]
  },
  {
   "cell_type": "markdown",
   "metadata": {},
   "source": [
    "### Focusing only on the top 20 countries with professional cricket players"
   ]
  },
  {
   "cell_type": "code",
   "execution_count": 5,
   "metadata": {},
   "outputs": [
    {
     "name": "stdout",
     "output_type": "stream",
     "text": [
      "Number of players in England = 20908\n",
      "Number of players in India = 13257\n",
      "Number of players in South Africa = 10095\n",
      "Number of players in Australia = 6921\n",
      "Number of players in Pakistan = 6846\n",
      "Number of players in Sri Lanka = 6079\n",
      "Number of players in New Zealand = 3731\n",
      "Number of players in United Arab Emirates = 3331\n",
      "Number of players in West Indies = 3317\n",
      "Number of players in Bangladesh = 1815\n",
      "Number of players in Afghanistan = 1410\n",
      "Number of players in Zimbabwe = 1237\n",
      "Number of players in Ireland = 794\n",
      "Number of players in Scotland = 663\n",
      "Number of players in United States of America = 618\n",
      "Number of players in Netherlands = 495\n",
      "Number of players in Malaysia = 462\n",
      "Number of players in Canada = 436\n",
      "Number of players in Hong Kong = 428\n",
      "Number of players in Nepal = 411\n"
     ]
    }
   ],
   "source": [
    "countries = []\n",
    "for key, value in players[\"COUNTRY\"].value_counts().nlargest(20).iteritems():\n",
    "    print(f\"Number of players in {key} = {value}\")\n",
    "    countries.append(key)"
   ]
  },
  {
   "cell_type": "code",
   "execution_count": 6,
   "metadata": {},
   "outputs": [],
   "source": [
    "country_columns = [\"country_id\", \"country_name\"]\n",
    "country_csv = pd.DataFrame(columns = country_columns)\n",
    "for i in range(len(countries)):\n",
    "    country_id = i+1\n",
    "    country_name = countries[i]\n",
    "    country_csv = country_csv.append({\"country_id\" : country_id, \n",
    "                                      \"country_name\" : country_name}, ignore_index=True)"
   ]
  },
  {
   "cell_type": "code",
   "execution_count": 7,
   "metadata": {},
   "outputs": [
    {
     "data": {
      "text/html": [
       "<div>\n",
       "<style scoped>\n",
       "    .dataframe tbody tr th:only-of-type {\n",
       "        vertical-align: middle;\n",
       "    }\n",
       "\n",
       "    .dataframe tbody tr th {\n",
       "        vertical-align: top;\n",
       "    }\n",
       "\n",
       "    .dataframe thead th {\n",
       "        text-align: right;\n",
       "    }\n",
       "</style>\n",
       "<table border=\"1\" class=\"dataframe\">\n",
       "  <thead>\n",
       "    <tr style=\"text-align: right;\">\n",
       "      <th></th>\n",
       "      <th>country_id</th>\n",
       "      <th>country_name</th>\n",
       "    </tr>\n",
       "  </thead>\n",
       "  <tbody>\n",
       "    <tr>\n",
       "      <th>0</th>\n",
       "      <td>1</td>\n",
       "      <td>England</td>\n",
       "    </tr>\n",
       "    <tr>\n",
       "      <th>1</th>\n",
       "      <td>2</td>\n",
       "      <td>India</td>\n",
       "    </tr>\n",
       "    <tr>\n",
       "      <th>2</th>\n",
       "      <td>3</td>\n",
       "      <td>South Africa</td>\n",
       "    </tr>\n",
       "    <tr>\n",
       "      <th>3</th>\n",
       "      <td>4</td>\n",
       "      <td>Australia</td>\n",
       "    </tr>\n",
       "    <tr>\n",
       "      <th>4</th>\n",
       "      <td>5</td>\n",
       "      <td>Pakistan</td>\n",
       "    </tr>\n",
       "    <tr>\n",
       "      <th>5</th>\n",
       "      <td>6</td>\n",
       "      <td>Sri Lanka</td>\n",
       "    </tr>\n",
       "    <tr>\n",
       "      <th>6</th>\n",
       "      <td>7</td>\n",
       "      <td>New Zealand</td>\n",
       "    </tr>\n",
       "    <tr>\n",
       "      <th>7</th>\n",
       "      <td>8</td>\n",
       "      <td>United Arab Emirates</td>\n",
       "    </tr>\n",
       "    <tr>\n",
       "      <th>8</th>\n",
       "      <td>9</td>\n",
       "      <td>West Indies</td>\n",
       "    </tr>\n",
       "    <tr>\n",
       "      <th>9</th>\n",
       "      <td>10</td>\n",
       "      <td>Bangladesh</td>\n",
       "    </tr>\n",
       "    <tr>\n",
       "      <th>10</th>\n",
       "      <td>11</td>\n",
       "      <td>Afghanistan</td>\n",
       "    </tr>\n",
       "    <tr>\n",
       "      <th>11</th>\n",
       "      <td>12</td>\n",
       "      <td>Zimbabwe</td>\n",
       "    </tr>\n",
       "    <tr>\n",
       "      <th>12</th>\n",
       "      <td>13</td>\n",
       "      <td>Ireland</td>\n",
       "    </tr>\n",
       "    <tr>\n",
       "      <th>13</th>\n",
       "      <td>14</td>\n",
       "      <td>Scotland</td>\n",
       "    </tr>\n",
       "    <tr>\n",
       "      <th>14</th>\n",
       "      <td>15</td>\n",
       "      <td>United States of America</td>\n",
       "    </tr>\n",
       "    <tr>\n",
       "      <th>15</th>\n",
       "      <td>16</td>\n",
       "      <td>Netherlands</td>\n",
       "    </tr>\n",
       "    <tr>\n",
       "      <th>16</th>\n",
       "      <td>17</td>\n",
       "      <td>Malaysia</td>\n",
       "    </tr>\n",
       "    <tr>\n",
       "      <th>17</th>\n",
       "      <td>18</td>\n",
       "      <td>Canada</td>\n",
       "    </tr>\n",
       "    <tr>\n",
       "      <th>18</th>\n",
       "      <td>19</td>\n",
       "      <td>Hong Kong</td>\n",
       "    </tr>\n",
       "    <tr>\n",
       "      <th>19</th>\n",
       "      <td>20</td>\n",
       "      <td>Nepal</td>\n",
       "    </tr>\n",
       "  </tbody>\n",
       "</table>\n",
       "</div>"
      ],
      "text/plain": [
       "   country_id              country_name\n",
       "0           1                   England\n",
       "1           2                     India\n",
       "2           3              South Africa\n",
       "3           4                 Australia\n",
       "4           5                  Pakistan\n",
       "5           6                 Sri Lanka\n",
       "6           7               New Zealand\n",
       "7           8      United Arab Emirates\n",
       "8           9               West Indies\n",
       "9          10                Bangladesh\n",
       "10         11               Afghanistan\n",
       "11         12                  Zimbabwe\n",
       "12         13                   Ireland\n",
       "13         14                  Scotland\n",
       "14         15  United States of America\n",
       "15         16               Netherlands\n",
       "16         17                  Malaysia\n",
       "17         18                    Canada\n",
       "18         19                 Hong Kong\n",
       "19         20                     Nepal"
      ]
     },
     "execution_count": 7,
     "metadata": {},
     "output_type": "execute_result"
    }
   ],
   "source": [
    "country_csv"
   ]
  },
  {
   "cell_type": "code",
   "execution_count": 8,
   "metadata": {},
   "outputs": [],
   "source": [
    "country_csv.to_csv(os.path.join(clean_data_path, \"country.csv\"), index=False)"
   ]
  },
  {
   "cell_type": "markdown",
   "metadata": {},
   "source": [
    "## Tournament table"
   ]
  },
  {
   "cell_type": "markdown",
   "metadata": {},
   "source": [
    "### Each zip file in https://cricsheet.org/ is going to be considered as a separate tournament. This list is going to be manually curated due to its short size"
   ]
  },
  {
   "cell_type": "code",
   "execution_count": 9,
   "metadata": {},
   "outputs": [],
   "source": [
    "tournaments = [\n",
    "    {\n",
    "        \"tournament_name\" : \"TEST\",\n",
    "        \"tournament_format\" : \"TEST\",\n",
    "        \"tournament_full_name\" : \"Test International Match\"\n",
    "    },\n",
    "    {\n",
    "        \"tournament_name\" : \"ODI\",\n",
    "        \"tournament_format\" : \"ODI\",\n",
    "        \"tournament_full_name\" : \"ODI Match\"\n",
    "    },\n",
    "    {\n",
    "        \"tournament_name\" : \"T20I\",\n",
    "        \"tournament_format\" : \"T20\",\n",
    "        \"tournament_full_name\" : \"T20 International Match\"\n",
    "    },\n",
    "    {\n",
    "        \"tournament_name\" : \"BBL\",\n",
    "        \"tournament_format\" : \"T20\",\n",
    "        \"tournament_full_name\" : \"Big Bash League\"\n",
    "    },\n",
    "    {\n",
    "        \"tournament_name\" : \"IPL\",\n",
    "        \"tournament_format\" : \"T20\",\n",
    "        \"tournament_full_name\" : \"Indian Premier Leargue\"\n",
    "    },\n",
    "    {\n",
    "        \"tournament_name\" : \"CPL\",\n",
    "        \"tournament_format\" : \"T20\",\n",
    "        \"tournament_full_name\" : \"Caribbean Premier Leargue\"\n",
    "    },\n",
    "    {\n",
    "        \"tournament_name\" : \"T20B\",\n",
    "        \"tournament_format\" : \"T20\",\n",
    "        \"tournament_full_name\" : \"T20 Blast\"\n",
    "    },\n",
    "    {\n",
    "        \"tournament_name\" : \"PSL\",\n",
    "        \"tournament_format\" : \"T20\",\n",
    "        \"tournament_full_name\" : \"Pakistan Super League\"\n",
    "    },\n",
    "    {\n",
    "        \"tournament_name\" : \"SSM\",\n",
    "        \"tournament_format\" : \"T20\",\n",
    "        \"tournament_full_name\" : \"Super Smash\"\n",
    "    },\n",
    "    {\n",
    "        \"tournament_name\" : \"WBB\",\n",
    "        \"tournament_format\" : \"T20\",\n",
    "        \"tournament_full_name\" : \"Womens Big Bash League\"\n",
    "    }\n",
    "]"
   ]
  },
  {
   "cell_type": "code",
   "execution_count": 10,
   "metadata": {},
   "outputs": [],
   "source": [
    "tournament_columns = [\"tournament_id\", \"tournament_name\", \"tournament_format\", \"tournament_full_name\"]\n",
    "tournament_csv = pd.DataFrame(columns = tournament_columns)\n",
    "for i in range(len(tournaments)):\n",
    "    tournament_id = i+1\n",
    "    tournament_name = tournaments[i][\"tournament_name\"]\n",
    "    tournament_format = tournaments[i][\"tournament_format\"]\n",
    "    tournament_full_name = tournaments[i][\"tournament_full_name\"]\n",
    "    tournament_csv = tournament_csv.append({\"tournament_id\" : tournament_id, \n",
    "                                      \"tournament_name\" : tournament_name,\n",
    "                                      \"tournament_format\" : tournament_format, \n",
    "                                      \"tournament_full_name\" : tournament_full_name}, ignore_index=True)"
   ]
  },
  {
   "cell_type": "code",
   "execution_count": 11,
   "metadata": {},
   "outputs": [
    {
     "data": {
      "text/html": [
       "<div>\n",
       "<style scoped>\n",
       "    .dataframe tbody tr th:only-of-type {\n",
       "        vertical-align: middle;\n",
       "    }\n",
       "\n",
       "    .dataframe tbody tr th {\n",
       "        vertical-align: top;\n",
       "    }\n",
       "\n",
       "    .dataframe thead th {\n",
       "        text-align: right;\n",
       "    }\n",
       "</style>\n",
       "<table border=\"1\" class=\"dataframe\">\n",
       "  <thead>\n",
       "    <tr style=\"text-align: right;\">\n",
       "      <th></th>\n",
       "      <th>tournament_id</th>\n",
       "      <th>tournament_name</th>\n",
       "      <th>tournament_format</th>\n",
       "      <th>tournament_full_name</th>\n",
       "    </tr>\n",
       "  </thead>\n",
       "  <tbody>\n",
       "    <tr>\n",
       "      <th>0</th>\n",
       "      <td>1</td>\n",
       "      <td>TEST</td>\n",
       "      <td>TEST</td>\n",
       "      <td>Test International Match</td>\n",
       "    </tr>\n",
       "    <tr>\n",
       "      <th>1</th>\n",
       "      <td>2</td>\n",
       "      <td>ODI</td>\n",
       "      <td>ODI</td>\n",
       "      <td>ODI Match</td>\n",
       "    </tr>\n",
       "    <tr>\n",
       "      <th>2</th>\n",
       "      <td>3</td>\n",
       "      <td>T20I</td>\n",
       "      <td>T20</td>\n",
       "      <td>T20 International Match</td>\n",
       "    </tr>\n",
       "    <tr>\n",
       "      <th>3</th>\n",
       "      <td>4</td>\n",
       "      <td>BBL</td>\n",
       "      <td>T20</td>\n",
       "      <td>Big Bash League</td>\n",
       "    </tr>\n",
       "    <tr>\n",
       "      <th>4</th>\n",
       "      <td>5</td>\n",
       "      <td>IPL</td>\n",
       "      <td>T20</td>\n",
       "      <td>Indian Premier Leargue</td>\n",
       "    </tr>\n",
       "    <tr>\n",
       "      <th>5</th>\n",
       "      <td>6</td>\n",
       "      <td>CPL</td>\n",
       "      <td>T20</td>\n",
       "      <td>Caribbean Premier Leargue</td>\n",
       "    </tr>\n",
       "    <tr>\n",
       "      <th>6</th>\n",
       "      <td>7</td>\n",
       "      <td>T20B</td>\n",
       "      <td>T20</td>\n",
       "      <td>T20 Blast</td>\n",
       "    </tr>\n",
       "    <tr>\n",
       "      <th>7</th>\n",
       "      <td>8</td>\n",
       "      <td>PSL</td>\n",
       "      <td>T20</td>\n",
       "      <td>Pakistan Super League</td>\n",
       "    </tr>\n",
       "    <tr>\n",
       "      <th>8</th>\n",
       "      <td>9</td>\n",
       "      <td>SSM</td>\n",
       "      <td>T20</td>\n",
       "      <td>Super Smash</td>\n",
       "    </tr>\n",
       "    <tr>\n",
       "      <th>9</th>\n",
       "      <td>10</td>\n",
       "      <td>WBB</td>\n",
       "      <td>T20</td>\n",
       "      <td>Womens Big Bash League</td>\n",
       "    </tr>\n",
       "  </tbody>\n",
       "</table>\n",
       "</div>"
      ],
      "text/plain": [
       "  tournament_id tournament_name tournament_format       tournament_full_name\n",
       "0             1            TEST              TEST   Test International Match\n",
       "1             2             ODI               ODI                  ODI Match\n",
       "2             3            T20I               T20    T20 International Match\n",
       "3             4             BBL               T20            Big Bash League\n",
       "4             5             IPL               T20     Indian Premier Leargue\n",
       "5             6             CPL               T20  Caribbean Premier Leargue\n",
       "6             7            T20B               T20                  T20 Blast\n",
       "7             8             PSL               T20      Pakistan Super League\n",
       "8             9             SSM               T20                Super Smash\n",
       "9            10             WBB               T20     Womens Big Bash League"
      ]
     },
     "execution_count": 11,
     "metadata": {},
     "output_type": "execute_result"
    }
   ],
   "source": [
    "tournament_csv"
   ]
  },
  {
   "cell_type": "code",
   "execution_count": 12,
   "metadata": {},
   "outputs": [],
   "source": [
    "tournament_csv.to_csv(os.path.join(clean_data_path, \"tournament.csv\"), index=False)"
   ]
  },
  {
   "cell_type": "markdown",
   "metadata": {},
   "source": [
    "## Team table\n"
   ]
  },
  {
   "cell_type": "markdown",
   "metadata": {},
   "source": [
    "### Considering only those teams where the players belong to the above 20 countries and aged < 50 (as of 2019)"
   ]
  },
  {
   "cell_type": "code",
   "execution_count": 13,
   "metadata": {},
   "outputs": [],
   "source": [
    "# considering only the top 10 countries as the remaining countries barely have 10 important players that can be seperately ingested. \n",
    "required_countries = countries[:-10]\n",
    "required_columns = ['NAME', 'COUNTRY', 'Full name', 'Birthdate', 'Major teams', 'Batting style', 'Bowling style', 'Other']\n",
    "required_players = players[(players[\"COUNTRY\"].isin(countries)) & (players[\"Age\"] < 50)][required_columns]"
   ]
  },
  {
   "cell_type": "code",
   "execution_count": 14,
   "metadata": {},
   "outputs": [
    {
     "name": "stderr",
     "output_type": "stream",
     "text": [
      "34016it [00:02, 14864.18it/s]\n"
     ]
    }
   ],
   "source": [
    "teams = []\n",
    "for index, row in tqdm(required_players.iterrows()):\n",
    "    # skip columns that are not string\n",
    "    if type(row[\"Major teams\"]) is not str:\n",
    "        continue\n",
    "    for team in get_clean_teams(row[\"Major teams\"]):\n",
    "        teams.append(team)"
   ]
  },
  {
   "cell_type": "markdown",
   "metadata": {},
   "source": [
    "### If a team has less than 'threshold' registered professional players, ignore that team"
   ]
  },
  {
   "cell_type": "code",
   "execution_count": 15,
   "metadata": {},
   "outputs": [],
   "source": [
    "threshold = 30\n",
    "threshold_count = 0\n",
    "teams_set = set()\n",
    "for team, count in Counter(teams).most_common():\n",
    "    if count > threshold:\n",
    "        threshold_count += 1\n",
    "        teams_set.add(team)\n",
    "teams_list = list(teams_set)"
   ]
  },
  {
   "cell_type": "code",
   "execution_count": 16,
   "metadata": {},
   "outputs": [
    {
     "data": {
      "text/plain": [
       "484"
      ]
     },
     "execution_count": 16,
     "metadata": {},
     "output_type": "execute_result"
    }
   ],
   "source": [
    "len(teams_list)"
   ]
  },
  {
   "cell_type": "code",
   "execution_count": 17,
   "metadata": {},
   "outputs": [
    {
     "name": "stderr",
     "output_type": "stream",
     "text": [
      "100%|███████████████████████████████████████████████████████████████████████████████| 484/484 [00:00<00:00, 516.27it/s]\n"
     ]
    }
   ],
   "source": [
    "team_columns = [\"team_id\", \"team_name\", \"team_label\"]\n",
    "team_csv = pd.DataFrame(columns = team_columns)\n",
    "for i in tqdm(range(len(teams_list))):\n",
    "    team_id = i+1\n",
    "    team_name = teams_list[i]\n",
    "    team_label = \"\".join(word[0] for word in team_name.split(\" \"))\n",
    "    team_csv = team_csv.append({\"team_id\" : team_id, \n",
    "                                \"team_name\" : team_name, \n",
    "                                \"team_label\" : team_label}, ignore_index=True)"
   ]
  },
  {
   "cell_type": "code",
   "execution_count": 18,
   "metadata": {},
   "outputs": [
    {
     "data": {
      "text/html": [
       "<div>\n",
       "<style scoped>\n",
       "    .dataframe tbody tr th:only-of-type {\n",
       "        vertical-align: middle;\n",
       "    }\n",
       "\n",
       "    .dataframe tbody tr th {\n",
       "        vertical-align: top;\n",
       "    }\n",
       "\n",
       "    .dataframe thead th {\n",
       "        text-align: right;\n",
       "    }\n",
       "</style>\n",
       "<table border=\"1\" class=\"dataframe\">\n",
       "  <thead>\n",
       "    <tr style=\"text-align: right;\">\n",
       "      <th></th>\n",
       "      <th>team_id</th>\n",
       "      <th>team_name</th>\n",
       "      <th>team_label</th>\n",
       "    </tr>\n",
       "  </thead>\n",
       "  <tbody>\n",
       "    <tr>\n",
       "      <th>0</th>\n",
       "      <td>1</td>\n",
       "      <td>Tamil Union Cricket and Athletic Club</td>\n",
       "      <td>TUCaAC</td>\n",
       "    </tr>\n",
       "    <tr>\n",
       "      <th>1</th>\n",
       "      <td>2</td>\n",
       "      <td>Australia</td>\n",
       "      <td>A</td>\n",
       "    </tr>\n",
       "    <tr>\n",
       "      <th>2</th>\n",
       "      <td>3</td>\n",
       "      <td>Wellington</td>\n",
       "      <td>W</td>\n",
       "    </tr>\n",
       "    <tr>\n",
       "      <th>3</th>\n",
       "      <td>4</td>\n",
       "      <td>Nottinghamshire</td>\n",
       "      <td>N</td>\n",
       "    </tr>\n",
       "    <tr>\n",
       "      <th>4</th>\n",
       "      <td>5</td>\n",
       "      <td>North West Under-13s</td>\n",
       "      <td>NWU</td>\n",
       "    </tr>\n",
       "    <tr>\n",
       "      <th>...</th>\n",
       "      <td>...</td>\n",
       "      <td>...</td>\n",
       "      <td>...</td>\n",
       "    </tr>\n",
       "    <tr>\n",
       "      <th>479</th>\n",
       "      <td>480</td>\n",
       "      <td>Wales Minor Counties</td>\n",
       "      <td>WMC</td>\n",
       "    </tr>\n",
       "    <tr>\n",
       "      <th>480</th>\n",
       "      <td>481</td>\n",
       "      <td>Otago Women</td>\n",
       "      <td>OW</td>\n",
       "    </tr>\n",
       "    <tr>\n",
       "      <th>481</th>\n",
       "      <td>482</td>\n",
       "      <td>Wiltshire</td>\n",
       "      <td>W</td>\n",
       "    </tr>\n",
       "    <tr>\n",
       "      <th>482</th>\n",
       "      <td>483</td>\n",
       "      <td>Shakthi Ladies</td>\n",
       "      <td>SL</td>\n",
       "    </tr>\n",
       "    <tr>\n",
       "      <th>483</th>\n",
       "      <td>484</td>\n",
       "      <td>Western Province Under-19s</td>\n",
       "      <td>WPU</td>\n",
       "    </tr>\n",
       "  </tbody>\n",
       "</table>\n",
       "<p>484 rows × 3 columns</p>\n",
       "</div>"
      ],
      "text/plain": [
       "    team_id                              team_name team_label\n",
       "0         1  Tamil Union Cricket and Athletic Club     TUCaAC\n",
       "1         2                              Australia          A\n",
       "2         3                             Wellington          W\n",
       "3         4                        Nottinghamshire          N\n",
       "4         5                   North West Under-13s        NWU\n",
       "..      ...                                    ...        ...\n",
       "479     480                   Wales Minor Counties        WMC\n",
       "480     481                            Otago Women         OW\n",
       "481     482                              Wiltshire          W\n",
       "482     483                         Shakthi Ladies         SL\n",
       "483     484             Western Province Under-19s        WPU\n",
       "\n",
       "[484 rows x 3 columns]"
      ]
     },
     "execution_count": 18,
     "metadata": {},
     "output_type": "execute_result"
    }
   ],
   "source": [
    "team_csv"
   ]
  },
  {
   "cell_type": "code",
   "execution_count": 19,
   "metadata": {},
   "outputs": [],
   "source": [
    "team_csv.to_csv(os.path.join(clean_data_path, \"team.csv\"), index=False)"
   ]
  },
  {
   "cell_type": "markdown",
   "metadata": {},
   "source": [
    "## Player table"
   ]
  },
  {
   "cell_type": "markdown",
   "metadata": {},
   "source": [
    "### Considering only those players who belong to the 20 countries and aged < 50 (as of 2019)"
   ]
  },
  {
   "cell_type": "markdown",
   "metadata": {},
   "source": [
    "### Utility maps to ingest players"
   ]
  },
  {
   "cell_type": "code",
   "execution_count": 20,
   "metadata": {},
   "outputs": [],
   "source": [
    "df_country = pd.read_csv(os.path.join(clean_data_path, \"country.csv\"))\n",
    "df_country = df_country.loc[:, ~df_country.columns.str.contains('^Unnamed')]\n",
    "country_id_map = dict(zip(df_country.country_name, df_country.country_id))"
   ]
  },
  {
   "cell_type": "code",
   "execution_count": 21,
   "metadata": {},
   "outputs": [],
   "source": [
    "df_team = pd.read_csv(os.path.join(clean_data_path, \"team.csv\"))\n",
    "df_team = df_team.loc[:, ~df_team.columns.str.contains('^Unnamed')]\n",
    "team_id_map = dict(zip(df_team.team_name, df_team.team_id))"
   ]
  },
  {
   "cell_type": "code",
   "execution_count": 22,
   "metadata": {},
   "outputs": [
    {
     "name": "stderr",
     "output_type": "stream",
     "text": [
      "34016it [00:02, 12908.57it/s]\n"
     ]
    }
   ],
   "source": [
    "players = []\n",
    "for index, row in tqdm(required_players.iterrows()):\n",
    "    \n",
    "    # If player doesnt have a proper team skip\n",
    "    if type(row[\"Major teams\"]) is not str:\n",
    "        continue\n",
    "    \n",
    "    # Getting the list of team ids this player has played in\n",
    "    team_list_ids = \"\"\n",
    "    for team in get_clean_teams(row[\"Major teams\"]):\n",
    "        if team in team_id_map:\n",
    "            team_list_ids += str(team_id_map[team]) + \",\"\n",
    "            \n",
    "    # If the player doesnt play in atleast 2 teams skip them\n",
    "    if len(team_list_ids.split(\",\")) < 3 :\n",
    "        continue\n",
    "        \n",
    "    # removing last comma\n",
    "    team_list_ids = team_list_ids[:-1]\n",
    "    \n",
    "    player = {}\n",
    "    player[\"player_name\"] = row[\"NAME\"]\n",
    "    player[\"player_full_name\"] = row[\"Full name\"]\n",
    "    player[\"batting_style\"] = row[\"Batting style\"]\n",
    "    player[\"bowling_style\"] = row[\"Bowling style\"]\n",
    "    player[\"birthdate\"] = row[\"Birthdate\"]\n",
    "    player[\"country_id\"] = country_id_map[row[\"COUNTRY\"]]\n",
    "    player[\"list_team_ids\"] = team_list_ids\n",
    "    \n",
    "    players.append(player)"
   ]
  },
  {
   "cell_type": "code",
   "execution_count": 23,
   "metadata": {},
   "outputs": [
    {
     "name": "stderr",
     "output_type": "stream",
     "text": [
      "100%|█████████████████████████████████████████████████████████████████████████████| 7913/7913 [00:29<00:00, 269.37it/s]\n"
     ]
    }
   ],
   "source": [
    "player_columns = [\"player_id\", \"player_display_name\", \"player_name\", \"player_full_name\", \"batting_style\", \"bowling_style\", \"birthdate\", \"country_id\"]\n",
    "player_csv = pd.DataFrame(columns = player_columns)\n",
    "for i in tqdm(range(len(players))):\n",
    "    player_id = i+1\n",
    "    player_display_name = \"\" # This needs to be updated later with fuzzy matching\n",
    "    player_name = players[i][\"player_name\"]\n",
    "    player_full_name = players[i][\"player_full_name\"]\n",
    "    batting_style = players[i][\"batting_style\"]\n",
    "    bowling_style = players[i][\"bowling_style\"]\n",
    "    birthdate = players[i][\"birthdate\"]\n",
    "    country_id = players[i][\"country_id\"]\n",
    "    list_team_ids = players[i][\"list_team_ids\"]\n",
    "    player_csv = player_csv.append({\"player_id\" : player_id, \n",
    "                                      \"player_display_name\" : player_display_name,\n",
    "                                      \"player_name\" : player_name,\n",
    "                                      \"player_full_name\" : player_full_name,\n",
    "                                      \"batting_style\" : batting_style,\n",
    "                                      \"bowling_style\" : bowling_style,\n",
    "                                      \"birthdate\" : birthdate,\n",
    "                                      \"country_id\" : country_id,\n",
    "                                      \"list_team_ids\" : list_team_ids\n",
    "                                     }, ignore_index=True)"
   ]
  },
  {
   "cell_type": "code",
   "execution_count": 24,
   "metadata": {},
   "outputs": [],
   "source": [
    "player_csv.to_csv(os.path.join(clean_data_path, \"player.csv\"), index=False)"
   ]
  },
  {
   "cell_type": "code",
   "execution_count": null,
   "metadata": {},
   "outputs": [],
   "source": []
  }
 ],
 "metadata": {
  "kernelspec": {
   "display_name": "torch",
   "language": "python",
   "name": "torch"
  },
  "language_info": {
   "codemirror_mode": {
    "name": "ipython",
    "version": 3
   },
   "file_extension": ".py",
   "mimetype": "text/x-python",
   "name": "python",
   "nbconvert_exporter": "python",
   "pygments_lexer": "ipython3",
   "version": "3.8.5"
  }
 },
 "nbformat": 4,
 "nbformat_minor": 4
}
