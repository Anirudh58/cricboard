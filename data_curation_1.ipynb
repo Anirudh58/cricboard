{
 "cells": [
  {
   "cell_type": "code",
   "execution_count": 1,
   "metadata": {},
   "outputs": [],
   "source": [
    "# Basic\n",
    "from collections import Counter\n",
    "import math\n",
    "import numpy as np\n",
    "import os\n",
    "import pprint\n",
    "\n",
    "# yaml specific\n",
    "import yaml\n",
    "\n",
    "# Data handling\n",
    "import pandas as pd\n",
    "from tqdm import tqdm"
   ]
  },
  {
   "cell_type": "code",
   "execution_count": 17,
   "metadata": {},
   "outputs": [
    {
     "data": {
      "text/plain": [
       "3"
      ]
     },
     "execution_count": 17,
     "metadata": {},
     "output_type": "execute_result"
    }
   ],
   "source": []
  },
  {
   "cell_type": "code",
   "execution_count": 2,
   "metadata": {},
   "outputs": [],
   "source": [
    "# Config variables\n",
    "raw_data_path = \"raw_data\"\n",
    "clean_data_path = \"clean_data\""
   ]
  },
  {
   "cell_type": "markdown",
   "metadata": {},
   "source": [
    "### Utility functions. "
   ]
  },
  {
   "cell_type": "code",
   "execution_count": 3,
   "metadata": {},
   "outputs": [],
   "source": [
    "def get_clean_teams(major_teams):\n",
    "    # remove bad chars from string\n",
    "    bad_chars = [';', ':', '!', \"*\", \"'\", '\"', '[', ']', ',']\n",
    "    teams = []\n",
    "    for team in major_teams.split(\", \"):\n",
    "        for char in bad_chars:\n",
    "            team = team.replace(char, \"\")\n",
    "        teams.append(team.strip().rstrip())\n",
    "    return teams"
   ]
  },
  {
   "cell_type": "markdown",
   "metadata": {},
   "source": [
    "# This notebook will be used to curate 4 tables. These tables are independent of matches\n",
    "## 1) Country 2) Tournament 3) Team 4) Player\n",
    "### Initially handling everything through CSVs. Later, we will see if using a DB is required"
   ]
  },
  {
   "cell_type": "code",
   "execution_count": 4,
   "metadata": {},
   "outputs": [
    {
     "name": "stderr",
     "output_type": "stream",
     "text": [
      "C:\\Users\\aniru\\miniconda3\\envs\\torch\\lib\\site-packages\\IPython\\core\\interactiveshell.py:3146: DtypeWarning: Columns (101,107,108,140,141,145,146,147,153,154,158,159,160) have mixed types.Specify dtype option on import or set low_memory=False.\n",
      "  has_raised = await self.run_ast_nodes(code_ast.body, cell_name,\n"
     ]
    }
   ],
   "source": [
    "players = pd.read_csv(\"raw_data/players.csv\")\n",
    "players = players.loc[:, ~players.columns.str.contains('^Unnamed')]"
   ]
  },
  {
   "cell_type": "markdown",
   "metadata": {},
   "source": [
    "## Country table"
   ]
  },
  {
   "cell_type": "markdown",
   "metadata": {},
   "source": [
    "### Focusing only on the top 20 countries with professional cricket players"
   ]
  },
  {
   "cell_type": "code",
   "execution_count": 5,
   "metadata": {},
   "outputs": [],
   "source": [
    "countries = []\n",
    "for key, value in players[\"COUNTRY\"].value_counts().nlargest(20).iteritems():\n",
    "    countries.append(key)"
   ]
  },
  {
   "cell_type": "code",
   "execution_count": 6,
   "metadata": {},
   "outputs": [],
   "source": [
    "country_columns = [\"country_id\", \"country_name\"]\n",
    "country_csv = pd.DataFrame(columns = country_columns)\n",
    "for i in range(len(countries)):\n",
    "    country_id = i+1\n",
    "    country_name = countries[i]\n",
    "    country_csv = country_csv.append({\"country_id\" : country_id, \n",
    "                                      \"country_name\" : country_name}, ignore_index=True)\n",
    "country_csv.to_csv(os.path.join(clean_data_path, \"country.csv\"), index=False)"
   ]
  },
  {
   "cell_type": "markdown",
   "metadata": {},
   "source": [
    "## Tournament table"
   ]
  },
  {
   "cell_type": "markdown",
   "metadata": {},
   "source": [
    "### Each zip file in https://cricsheet.org/ is going to be considered as a separate tournament. This list is going to be manually curated due to its short size"
   ]
  },
  {
   "cell_type": "code",
   "execution_count": 7,
   "metadata": {},
   "outputs": [],
   "source": [
    "tournaments = [\n",
    "    {\n",
    "        \"tournament_name\" : \"TEST\",\n",
    "        \"tournament_format\" : \"TEST\",\n",
    "        \"tournament_full_name\" : \"Test International Match\"\n",
    "    },\n",
    "    {\n",
    "        \"tournament_name\" : \"ODI\",\n",
    "        \"tournament_format\" : \"ODI\",\n",
    "        \"tournament_full_name\" : \"ODI Match\"\n",
    "    },\n",
    "    {\n",
    "        \"tournament_name\" : \"T20I\",\n",
    "        \"tournament_format\" : \"T20\",\n",
    "        \"tournament_full_name\" : \"T20 International Match\"\n",
    "    },\n",
    "    {\n",
    "        \"tournament_name\" : \"BBL\",\n",
    "        \"tournament_format\" : \"T20\",\n",
    "        \"tournament_full_name\" : \"Big Bash League\"\n",
    "    },\n",
    "    {\n",
    "        \"tournament_name\" : \"IPL\",\n",
    "        \"tournament_format\" : \"T20\",\n",
    "        \"tournament_full_name\" : \"Indian Premier Leargue\"\n",
    "    },\n",
    "    {\n",
    "        \"tournament_name\" : \"CPL\",\n",
    "        \"tournament_format\" : \"T20\",\n",
    "        \"tournament_full_name\" : \"Caribbean Premier Leargue\"\n",
    "    },\n",
    "    {\n",
    "        \"tournament_name\" : \"T20B\",\n",
    "        \"tournament_format\" : \"T20\",\n",
    "        \"tournament_full_name\" : \"T20 Blast\"\n",
    "    },\n",
    "    {\n",
    "        \"tournament_name\" : \"PSL\",\n",
    "        \"tournament_format\" : \"T20\",\n",
    "        \"tournament_full_name\" : \"Pakistan Super League\"\n",
    "    },\n",
    "    {\n",
    "        \"tournament_name\" : \"SSM\",\n",
    "        \"tournament_format\" : \"T20\",\n",
    "        \"tournament_full_name\" : \"Super Smash\"\n",
    "    },\n",
    "    {\n",
    "        \"tournament_name\" : \"WBB\",\n",
    "        \"tournament_format\" : \"T20\",\n",
    "        \"tournament_full_name\" : \"Womens Big Bash League\"\n",
    "    }\n",
    "]"
   ]
  },
  {
   "cell_type": "code",
   "execution_count": 8,
   "metadata": {},
   "outputs": [],
   "source": [
    "tournament_columns = [\"tournament_id\", \"tournament_name\", \"tournament_format\", \"tournament_full_name\"]\n",
    "tournament_csv = pd.DataFrame(columns = tournament_columns)\n",
    "for i in range(len(tournaments)):\n",
    "    tournament_id = i+1\n",
    "    tournament_name = tournaments[i][\"tournament_name\"]\n",
    "    tournament_format = tournaments[i][\"tournament_format\"]\n",
    "    tournament_full_name = tournaments[i][\"tournament_full_name\"]\n",
    "    tournament_csv = tournament_csv.append({\"tournament_id\" : tournament_id, \n",
    "                                      \"tournament_name\" : tournament_name,\n",
    "                                      \"tournament_format\" : tournament_format, \n",
    "                                      \"tournament_full_name\" : tournament_full_name}, ignore_index=True)\n",
    "tournament_csv.to_csv(os.path.join(clean_data_path, \"tournament.csv\"), index=False)"
   ]
  },
  {
   "cell_type": "markdown",
   "metadata": {},
   "source": [
    "## Team table\n"
   ]
  },
  {
   "cell_type": "markdown",
   "metadata": {},
   "source": [
    "### Considering only those teams where the players belong to the above 20 countries and aged < 50 (as of 2019)"
   ]
  },
  {
   "cell_type": "code",
   "execution_count": 9,
   "metadata": {},
   "outputs": [],
   "source": [
    "# considering only the top 10 countries as the remaining countries barely have 10 important players that can be seperately ingested. \n",
    "required_countries = countries[:-10]\n",
    "required_columns = ['NAME', 'COUNTRY', 'Full name', 'Birthdate', 'Major teams', 'Batting style', 'Bowling style', 'Other']\n",
    "required_players = players[(players[\"COUNTRY\"].isin(countries)) & (players[\"Age\"] <= 55)][required_columns]"
   ]
  },
  {
   "cell_type": "code",
   "execution_count": 10,
   "metadata": {},
   "outputs": [
    {
     "name": "stderr",
     "output_type": "stream",
     "text": [
      "38017it [00:02, 14630.17it/s]\n"
     ]
    }
   ],
   "source": [
    "teams = []\n",
    "for index, row in tqdm(required_players.iterrows()):\n",
    "    # skip columns that are not string\n",
    "    if type(row[\"Major teams\"]) is not str:\n",
    "        continue\n",
    "    for team in get_clean_teams(row[\"Major teams\"]):\n",
    "        teams.append(team)"
   ]
  },
  {
   "cell_type": "markdown",
   "metadata": {},
   "source": [
    "### If a team has less than 'threshold' registered professional players, ignore that team"
   ]
  },
  {
   "cell_type": "code",
   "execution_count": 11,
   "metadata": {},
   "outputs": [],
   "source": [
    "threshold = 25\n",
    "threshold_count = 0\n",
    "teams_set = set()\n",
    "for team, count in Counter(teams).most_common():\n",
    "    if count > threshold:\n",
    "        threshold_count += 1\n",
    "        teams_set.add(team)\n",
    "teams_list = list(teams_set)"
   ]
  },
  {
   "cell_type": "code",
   "execution_count": 12,
   "metadata": {},
   "outputs": [
    {
     "data": {
      "text/plain": [
       "599"
      ]
     },
     "execution_count": 12,
     "metadata": {},
     "output_type": "execute_result"
    }
   ],
   "source": [
    "len(teams_list)"
   ]
  },
  {
   "cell_type": "code",
   "execution_count": 13,
   "metadata": {},
   "outputs": [
    {
     "name": "stderr",
     "output_type": "stream",
     "text": [
      "100%|██████████████████████████████████████████████████████████████████████████████████████████████████████████████████████████████████████████████████████████████████████████| 599/599 [00:01<00:00, 469.66it/s]\n"
     ]
    }
   ],
   "source": [
    "team_columns = [\"team_id\", \"team_name\", \"team_label\"]\n",
    "team_csv = pd.DataFrame(columns = team_columns)\n",
    "for i in tqdm(range(len(teams_list))):\n",
    "    team_id = i+1\n",
    "    team_name = teams_list[i]\n",
    "    team_label = \"\".join(word[0] for word in team_name.split(\" \"))\n",
    "    team_csv = team_csv.append({\"team_id\" : team_id, \n",
    "                                \"team_name\" : team_name, \n",
    "                                \"team_label\" : team_label}, ignore_index=True)\n",
    "team_csv.to_csv(os.path.join(clean_data_path, \"team.csv\"), index=False)"
   ]
  },
  {
   "cell_type": "markdown",
   "metadata": {},
   "source": [
    "## Player table"
   ]
  },
  {
   "cell_type": "markdown",
   "metadata": {},
   "source": [
    "### Considering only those players who belong to the 20 countries and aged < 50 (as of 2019)"
   ]
  },
  {
   "cell_type": "markdown",
   "metadata": {},
   "source": [
    "### Utility maps to ingest players"
   ]
  },
  {
   "cell_type": "code",
   "execution_count": 14,
   "metadata": {},
   "outputs": [],
   "source": [
    "df_country = pd.read_csv(os.path.join(clean_data_path, \"country.csv\"))\n",
    "df_country = df_country.loc[:, ~df_country.columns.str.contains('^Unnamed')]\n",
    "country_id_map = dict(zip(df_country.country_name, df_country.country_id))"
   ]
  },
  {
   "cell_type": "code",
   "execution_count": 15,
   "metadata": {},
   "outputs": [],
   "source": [
    "df_team = pd.read_csv(os.path.join(clean_data_path, \"team.csv\"))\n",
    "df_team = df_team.loc[:, ~df_team.columns.str.contains('^Unnamed')]\n",
    "team_id_map = dict(zip(df_team.team_name, df_team.team_id))"
   ]
  },
  {
   "cell_type": "code",
   "execution_count": 16,
   "metadata": {},
   "outputs": [
    {
     "name": "stderr",
     "output_type": "stream",
     "text": [
      "38017it [00:03, 12435.55it/s]\n"
     ]
    }
   ],
   "source": [
    "player_columns = [\"player_id\", \"player_display_name\", \"player_name\", \"player_full_name\", \"batting_style\", \"bowling_style\", \"birthdate\", \"country_id\"]\n",
    "player_csv = {}\n",
    "i = 0 # player tracker\n",
    "for index, row in tqdm(required_players.iterrows()):\n",
    "    \n",
    "    # If player doesnt have a proper team skip\n",
    "    if type(row[\"Major teams\"]) is not str:\n",
    "        continue\n",
    "    \n",
    "    # Getting the list of team ids this player has played in\n",
    "    team_list_ids = \"\"\n",
    "    for team in get_clean_teams(row[\"Major teams\"]):\n",
    "        if team in team_id_map:\n",
    "            team_list_ids += str(team_id_map[team]) + \",\"\n",
    "            \n",
    "    # If the player doesnt play in atleast 2 teams skip them\n",
    "    if len(team_list_ids.split(\",\")) < 3 :\n",
    "        continue\n",
    "        \n",
    "    # removing last comma\n",
    "    team_list_ids = team_list_ids[:-1]\n",
    "    \n",
    "    player_id = i+1\n",
    "    player_display_name = \"\" # This needs to be updated later with fuzzy matching\n",
    "    player_name = row[\"NAME\"]\n",
    "    player_full_name = row[\"Full name\"]\n",
    "    batting_style = row[\"Batting style\"]\n",
    "    bowling_style = row[\"Bowling style\"]\n",
    "    birthdate = row[\"Birthdate\"]\n",
    "    country_id = country_id_map[row[\"COUNTRY\"]]\n",
    "    list_team_ids = team_list_ids\n",
    "    \n",
    "    player_csv[i] = {\n",
    "                        \"player_id\" : player_id, \n",
    "                        \"player_display_name\" : player_display_name,\n",
    "                        \"player_name\" : player_name,\n",
    "                        \"player_full_name\" : player_full_name,\n",
    "                        \"batting_style\" : batting_style,\n",
    "                        \"bowling_style\" : bowling_style,\n",
    "                        \"birthdate\" : birthdate,\n",
    "                        \"country_id\" : country_id,\n",
    "                        \"list_team_ids\" : list_team_ids\n",
    "    }\n",
    "    \n",
    "    i += 1\n",
    "    \n",
    "df_player_csv = pd.DataFrame.from_dict(player_csv, \"index\")\n",
    "df_player_csv.to_csv(os.path.join(clean_data_path, \"player.csv\"), index=False)"
   ]
  },
  {
   "cell_type": "code",
   "execution_count": null,
   "metadata": {},
   "outputs": [],
   "source": []
  }
 ],
 "metadata": {
  "kernelspec": {
   "display_name": "torch",
   "language": "python",
   "name": "torch"
  },
  "language_info": {
   "codemirror_mode": {
    "name": "ipython",
    "version": 3
   },
   "file_extension": ".py",
   "mimetype": "text/x-python",
   "name": "python",
   "nbconvert_exporter": "python",
   "pygments_lexer": "ipython3",
   "version": "3.8.5"
  }
 },
 "nbformat": 4,
 "nbformat_minor": 4
}
