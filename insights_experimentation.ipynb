{
 "cells": [
  {
   "cell_type": "code",
   "execution_count": 1,
   "metadata": {},
   "outputs": [
    {
     "name": "stderr",
     "output_type": "stream",
     "text": [
      "C:\\Users\\aniru\\miniconda3\\envs\\torch\\lib\\site-packages\\IPython\\core\\interactiveshell.py:3338: DtypeWarning: Columns (3) have mixed types.Specify dtype option on import or set low_memory=False.\n",
      "  if (await self.run_code(code, result,  async_=asy)):\n"
     ]
    }
   ],
   "source": [
    "# Basic\n",
    "from collections import Counter\n",
    "import datetime\n",
    "import math\n",
    "import numpy as np\n",
    "import os\n",
    "import pprint\n",
    "\n",
    "# yaml specific\n",
    "import yaml\n",
    "\n",
    "# Data handling\n",
    "from fuzzywuzzy import fuzz, process\n",
    "import pandas as pd\n",
    "from tqdm import tqdm\n",
    "\n",
    "# my library\n",
    "from db_utils import update_player, add_player \n",
    "from core import runs\n",
    "from insights import total_runs"
   ]
  },
  {
   "cell_type": "code",
   "execution_count": 2,
   "metadata": {},
   "outputs": [],
   "source": [
    "# Config variables\n",
    "raw_data_path = \"raw_data\"\n",
    "clean_data_path = \"clean_data\"\n",
    "tournament_name = \"IPL\""
   ]
  },
  {
   "cell_type": "code",
   "execution_count": 3,
   "metadata": {},
   "outputs": [],
   "source": [
    "df_tournament = pd.read_csv(os.path.join(clean_data_path, \"tournament.csv\"))\n",
    "df_tournament = df_tournament.loc[:, ~df_tournament.columns.str.contains('^Unnamed')]\n",
    "tournament_id_map = dict(zip(df_tournament.tournament_name, df_tournament.tournament_id))"
   ]
  },
  {
   "cell_type": "code",
   "execution_count": 4,
   "metadata": {},
   "outputs": [],
   "source": [
    "df_venue = pd.read_csv(os.path.join(clean_data_path, \"venue.csv\"))\n",
    "df_venue = df_venue.loc[:, ~df_venue.columns.str.contains('^Unnamed')]\n",
    "venue_id_map = dict(zip(df_venue.venue_name, df_venue.venue_id))\n",
    "\n",
    "# Mapping the duplicates as well to its correct venue ids\n",
    "venue_id_map[\"Punjab Cricket Association IS Bindra Stadium, Mohali\"] = venue_id_map[\"Punjab Cricket Association Stadium, Mohali\"]\n",
    "venue_id_map[\"M.Chinnaswamy Stadium\"] = venue_id_map[\"M Chinnaswamy Stadium\"]"
   ]
  },
  {
   "cell_type": "code",
   "execution_count": 5,
   "metadata": {},
   "outputs": [],
   "source": [
    "df_team = pd.read_csv(os.path.join(clean_data_path, \"team.csv\"))\n",
    "df_team = df_team.loc[:, ~df_team.columns.str.contains('^Unnamed')]\n",
    "team_id_map = dict(zip(df_team.team_name, df_team.team_id))"
   ]
  },
  {
   "cell_type": "code",
   "execution_count": 6,
   "metadata": {},
   "outputs": [],
   "source": [
    "df_player = pd.read_csv(os.path.join(clean_data_path, \"player.csv\"))\n",
    "df_player = df_player.loc[:, ~df_player.columns.str.contains('^Unnamed')]\n",
    "player_dispname_id_map = dict(zip(df_player.player_display_name, df_player.player_id))\n",
    "player_name_id_map = dict(zip(df_player.player_name, df_player.player_id))"
   ]
  },
  {
   "cell_type": "code",
   "execution_count": 7,
   "metadata": {},
   "outputs": [
    {
     "name": "stderr",
     "output_type": "stream",
     "text": [
      "C:\\Users\\aniru\\miniconda3\\envs\\torch\\lib\\site-packages\\IPython\\core\\interactiveshell.py:3146: DtypeWarning: Columns (3) have mixed types.Specify dtype option on import or set low_memory=False.\n",
      "  has_raised = await self.run_ast_nodes(code_ast.body, cell_name,\n"
     ]
    }
   ],
   "source": [
    "df_match = pd.read_csv(os.path.join(clean_data_path, \"match.csv\"))\n",
    "df_match = df_match.loc[:, ~df_match.columns.str.contains('^Unnamed')]\n",
    "\n",
    "df_ball = pd.read_csv(os.path.join(clean_data_path, \"ball.csv\"))\n",
    "df_ball = df_ball.loc[:, ~df_ball.columns.str.contains('^Unnamed')]"
   ]
  },
  {
   "cell_type": "code",
   "execution_count": 8,
   "metadata": {},
   "outputs": [],
   "source": [
    "player_name = \"Virat Kohli\"\n",
    "player_id = player_name_id_map[player_name]\n",
    "venue_name = \"ALL\"\n",
    "match_format = \"T20\"\n",
    "tournaments = []\n",
    "years_range = [str(year) for year in range(2000, 2022)]\n",
    "overs_range = [0, 20]\n",
    "top_n=20"
   ]
  },
  {
   "cell_type": "code",
   "execution_count": 9,
   "metadata": {},
   "outputs": [
    {
     "ename": "TypeError",
     "evalue": "can only concatenate str (not \"int\") to str",
     "output_type": "error",
     "traceback": [
      "\u001b[1;31m---------------------------------------------------------------------------\u001b[0m",
      "\u001b[1;31mTypeError\u001b[0m                                 Traceback (most recent call last)",
      "\u001b[1;32m<ipython-input-9-56fe6cedf21a>\u001b[0m in \u001b[0;36m<module>\u001b[1;34m\u001b[0m\n\u001b[1;32m----> 1\u001b[1;33m \u001b[0mtotal_runs\u001b[0m\u001b[1;33m(\u001b[0m\u001b[0mplayer_name\u001b[0m\u001b[1;33m,\u001b[0m \u001b[0mtop_n\u001b[0m\u001b[1;33m=\u001b[0m\u001b[0mtop_n\u001b[0m\u001b[1;33m,\u001b[0m \u001b[0mmatch_format\u001b[0m\u001b[1;33m=\u001b[0m\u001b[0mmatch_format\u001b[0m\u001b[1;33m,\u001b[0m \u001b[0mtournaments\u001b[0m\u001b[1;33m=\u001b[0m\u001b[0mtournaments\u001b[0m\u001b[1;33m,\u001b[0m \u001b[0mvenue_name\u001b[0m\u001b[1;33m=\u001b[0m\u001b[0mvenue_name\u001b[0m\u001b[1;33m,\u001b[0m \u001b[0movers_range\u001b[0m\u001b[1;33m=\u001b[0m\u001b[0movers_range\u001b[0m\u001b[1;33m,\u001b[0m \u001b[0myears_range\u001b[0m\u001b[1;33m=\u001b[0m\u001b[0myears_range\u001b[0m\u001b[1;33m)\u001b[0m\u001b[1;33m\u001b[0m\u001b[1;33m\u001b[0m\u001b[0m\n\u001b[0m",
      "\u001b[1;32m~\\codes\\cricboard\\insights.py\u001b[0m in \u001b[0;36mtotal_runs\u001b[1;34m(player_name, top_n, match_format, tournaments, venue_name, years_range, overs_range, against_spin, against_pace, against_bowler)\u001b[0m\n\u001b[0;32m     66\u001b[0m \u001b[1;33m\u001b[0m\u001b[0m\n\u001b[0;32m     67\u001b[0m     \u001b[1;31m# defaults to full slider (all years)\u001b[0m\u001b[1;33m\u001b[0m\u001b[1;33m\u001b[0m\u001b[1;33m\u001b[0m\u001b[0m\n\u001b[1;32m---> 68\u001b[1;33m     \u001b[0myears_to_consider\u001b[0m\u001b[1;33m=\u001b[0m \u001b[1;33m[\u001b[0m\u001b[0mstr\u001b[0m\u001b[1;33m(\u001b[0m\u001b[0myear\u001b[0m\u001b[1;33m)\u001b[0m \u001b[1;32mfor\u001b[0m \u001b[0myear\u001b[0m \u001b[1;32min\u001b[0m \u001b[0mrange\u001b[0m\u001b[1;33m(\u001b[0m\u001b[0myears_range\u001b[0m\u001b[1;33m[\u001b[0m\u001b[1;36m0\u001b[0m\u001b[1;33m]\u001b[0m\u001b[1;33m,\u001b[0m \u001b[0myears_range\u001b[0m\u001b[1;33m[\u001b[0m\u001b[1;36m1\u001b[0m\u001b[1;33m]\u001b[0m\u001b[1;33m+\u001b[0m\u001b[1;36m1\u001b[0m\u001b[1;33m)\u001b[0m\u001b[1;33m]\u001b[0m\u001b[1;33m\u001b[0m\u001b[1;33m\u001b[0m\u001b[0m\n\u001b[0m\u001b[0;32m     69\u001b[0m \u001b[1;33m\u001b[0m\u001b[0m\n\u001b[0;32m     70\u001b[0m     \u001b[1;31m# defaults to full slider (all overs)\u001b[0m\u001b[1;33m\u001b[0m\u001b[1;33m\u001b[0m\u001b[1;33m\u001b[0m\u001b[0m\n",
      "\u001b[1;31mTypeError\u001b[0m: can only concatenate str (not \"int\") to str"
     ]
    }
   ],
   "source": [
    "#total_runs(player_name, top_n=top_n, match_format=match_format, tournaments=tournaments, venue_name=venue_name, overs_range=overs_range, years_range=years_range)"
   ]
  },
  {
   "cell_type": "code",
   "execution_count": 11,
   "metadata": {},
   "outputs": [],
   "source": [
    "def dismissals(player, tournaments=None, venue=None, years=None, overs_range=None, against_spin=None, against_pace=None, against_bowler=None):\n",
    "    \"\"\"\n",
    "        Total dismissals of this player given the conditions\n",
    "        Args:\n",
    "            player - (int) id of target player\n",
    "            tournaments - (list of ints) list of tournament ids\n",
    "            venue - (int) id of venue. \n",
    "            years - (list) list of years you want to consider\n",
    "            overs_range - (list) 2 member list denoting [start_over, end_over]\n",
    "            against_spin - (boolean) mark it true if you want data only specific to spin. dont mark this if you supply 'against_bowler'\n",
    "            against_pace - (boolean) mark it true if you want data only specific to pace. dont mark this if you supply 'against_bowler'\n",
    "            against_bowler - (int) id of specific bowler to find data against\n",
    "    \"\"\"\n",
    "    \n",
    "    # Grabbing all balls faced by this player\n",
    "    required_balls = df_ball[(df_ball[\"batsman\"] == player) | (df_ball[\"non_striker\"] == player)]\n",
    "    \n",
    "    # Grabbing all matches to map ids\n",
    "    required_matches = df_match\n",
    "    \n",
    "    # Run the required_matches dataframe through each match filter\n",
    "    \n",
    "    if tournaments is not None:\n",
    "        required_matches = required_matches[required_matches['tournament_id'].isin(tournaments)]\n",
    "        \n",
    "    if venue is not None:\n",
    "        required_matches = required_matches[required_matches['venue_id'] == venue]\n",
    "        \n",
    "    if years is not None:\n",
    "        required_matches = required_matches[required_matches['match_date'].str.contains('|'.join(years))]\n",
    "    \n",
    "    match_ids_to_consider = np.array(required_matches['match_id'])\n",
    "    required_balls = required_balls[required_balls['match_id'].isin(match_ids_to_consider)]\n",
    "        \n",
    "    if overs_range is not None:\n",
    "        required_balls = required_balls[(required_balls['ball_number'] >= overs_range[0]) & (required_balls['ball_number'] <= overs_range[1])]\n",
    "    \n",
    "    if against_bowler is not None:\n",
    "        required_balls = required_balls[required_balls['bowler'] == against_bowler]\n",
    "\n",
    "    # TODO\n",
    "    if against_spin is not None:\n",
    "        only_spin = True\n",
    "    \n",
    "    # TODO\n",
    "    if against_pace is not None:\n",
    "        only_pace = True\n",
    "    \n",
    "    required_balls = required_balls[required_balls['player_dismissed'] == player]\n",
    "    print(required_balls)\n",
    "    \n",
    "    num_dismissals = len(required_balls)\n",
    "        \n",
    "    return num_dismissals"
   ]
  },
  {
   "cell_type": "code",
   "execution_count": 12,
   "metadata": {},
   "outputs": [],
   "source": [
    "def dismissals(player, tournaments=None, venue=None, years=None, overs_range=None, against_spin=None, against_pace=None, against_bowler=None):\n",
    "    \"\"\"\n",
    "        Total dismissals of this player given the conditions\n",
    "        Args:\n",
    "            player - (int) id of target player\n",
    "            tournaments - (list of ints) list of tournament ids\n",
    "            venue - (int) id of venue. \n",
    "            years - (list) list of years you want to consider\n",
    "            overs_range - (list) 2 member list denoting [start_over, end_over]\n",
    "            against_spin - (boolean) mark it true if you want data only specific to spin. dont mark this if you supply 'against_bowler'\n",
    "            against_pace - (boolean) mark it true if you want data only specific to pace. dont mark this if you supply 'against_bowler'\n",
    "            against_bowler - (int) id of specific bowler to find data against\n",
    "    \"\"\"\n",
    "    \n",
    "    # Grabbing all balls faced by this player\n",
    "    required_balls = df_ball[(df_ball[\"batsman\"] == player) | (df_ball[\"non_striker\"] == player)]\n",
    "    \n",
    "    # Grabbing all matches to map ids\n",
    "    required_matches = df_match\n",
    "    \n",
    "    # Run the required_matches dataframe through each match filter\n",
    "    \n",
    "    if tournaments is not None:\n",
    "        required_matches = required_matches[required_matches['tournament_id'].isin(tournaments)]\n",
    "        \n",
    "    if venue is not None:\n",
    "        required_matches = required_matches[required_matches['venue_id'] == venue]\n",
    "        \n",
    "    if years is not None:\n",
    "        required_matches = required_matches[required_matches['match_date'].str.contains('|'.join(years))]\n",
    "    \n",
    "    match_ids_to_consider = np.array(required_matches['match_id'])\n",
    "    required_balls = required_balls[required_balls['match_id'].isin(match_ids_to_consider)]\n",
    "        \n",
    "    if overs_range is not None:\n",
    "        required_balls = required_balls[(required_balls['ball_number'] >= overs_range[0]) & (required_balls['ball_number'] <= overs_range[1])]\n",
    "    \n",
    "    if against_bowler is not None:\n",
    "        required_balls = required_balls[required_balls['bowler'] == against_bowler]\n",
    "\n",
    "    # TODO\n",
    "    if against_spin is not None:\n",
    "        only_spin = True\n",
    "    \n",
    "    # TODO\n",
    "    if against_pace is not None:\n",
    "        only_pace = True\n",
    "    \n",
    "    required_balls = required_balls[required_balls['player_dismissed'] == player]\n",
    "    \n",
    "    num_dismissals = len(required_balls)\n",
    "        \n",
    "    return num_dismissals"
   ]
  },
  {
   "cell_type": "code",
   "execution_count": 13,
   "metadata": {},
   "outputs": [
    {
     "data": {
      "text/plain": [
       "154"
      ]
     },
     "execution_count": 13,
     "metadata": {},
     "output_type": "execute_result"
    }
   ],
   "source": [
    "dismissals(player=player_id)"
   ]
  },
  {
   "cell_type": "code",
   "execution_count": null,
   "metadata": {},
   "outputs": [],
   "source": []
  },
  {
   "cell_type": "code",
   "execution_count": null,
   "metadata": {},
   "outputs": [],
   "source": []
  },
  {
   "cell_type": "code",
   "execution_count": null,
   "metadata": {},
   "outputs": [],
   "source": []
  },
  {
   "cell_type": "code",
   "execution_count": null,
   "metadata": {},
   "outputs": [],
   "source": []
  }
 ],
 "metadata": {
  "kernelspec": {
   "display_name": "torch",
   "language": "python",
   "name": "torch"
  },
  "language_info": {
   "codemirror_mode": {
    "name": "ipython",
    "version": 3
   },
   "file_extension": ".py",
   "mimetype": "text/x-python",
   "name": "python",
   "nbconvert_exporter": "python",
   "pygments_lexer": "ipython3",
   "version": "3.8.5"
  }
 },
 "nbformat": 4,
 "nbformat_minor": 4
}
