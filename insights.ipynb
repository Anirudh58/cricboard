{
 "cells": [
  {
   "cell_type": "code",
   "execution_count": 1,
   "metadata": {},
   "outputs": [],
   "source": [
    "# Basic\n",
    "from collections import Counter\n",
    "import datetime\n",
    "import math\n",
    "import numpy as np\n",
    "import os\n",
    "import pprint\n",
    "\n",
    "# yaml specific\n",
    "import yaml\n",
    "\n",
    "# Data handling\n",
    "from fuzzywuzzy import fuzz, process\n",
    "import pandas as pd\n",
    "from tqdm import tqdm\n",
    "\n",
    "# my library\n",
    "from db_utils import update_player, add_player "
   ]
  },
  {
   "cell_type": "code",
   "execution_count": 2,
   "metadata": {},
   "outputs": [],
   "source": [
    "# Config variables\n",
    "raw_data_path = \"raw_data\"\n",
    "clean_data_path = \"clean_data\"\n",
    "tournament_name = \"IPL\""
   ]
  },
  {
   "cell_type": "code",
   "execution_count": 31,
   "metadata": {},
   "outputs": [],
   "source": [
    "df_tournament = pd.read_csv(os.path.join(clean_data_path, \"tournament.csv\"))\n",
    "df_tournament = df_tournament.loc[:, ~df_tournament.columns.str.contains('^Unnamed')]\n",
    "tournament_id_map = dict(zip(df_tournament.tournament_name, df_tournament.tournament_id))"
   ]
  },
  {
   "cell_type": "code",
   "execution_count": 32,
   "metadata": {},
   "outputs": [],
   "source": [
    "df_venue = pd.read_csv(os.path.join(clean_data_path, \"venue.csv\"))\n",
    "df_venue = df_venue.loc[:, ~df_venue.columns.str.contains('^Unnamed')]\n",
    "venue_id_map = dict(zip(df_venue.venue_name, df_venue.venue_id))\n",
    "\n",
    "# Mapping the duplicates as well to its correct venue ids\n",
    "venue_id_map[\"Punjab Cricket Association IS Bindra Stadium, Mohali\"] = 1\n",
    "venue_id_map[\"M.Chinnaswamy Stadium\"] = 23"
   ]
  },
  {
   "cell_type": "code",
   "execution_count": 5,
   "metadata": {},
   "outputs": [],
   "source": [
    "df_team = pd.read_csv(os.path.join(clean_data_path, \"team.csv\"))\n",
    "df_team = df_team.loc[:, ~df_team.columns.str.contains('^Unnamed')]\n",
    "team_id_map = dict(zip(df_team.team_name, df_team.team_id))"
   ]
  },
  {
   "cell_type": "code",
   "execution_count": 33,
   "metadata": {},
   "outputs": [],
   "source": [
    "df_player = pd.read_csv(os.path.join(clean_data_path, \"player.csv\"))\n",
    "df_player = df_player.loc[:, ~df_player.columns.str.contains('^Unnamed')]\n",
    "player_id_map = dict(zip(df_player.player_display_name, df_player.player_id))"
   ]
  },
  {
   "cell_type": "code",
   "execution_count": 123,
   "metadata": {},
   "outputs": [
    {
     "name": "stderr",
     "output_type": "stream",
     "text": [
      "C:\\Users\\aniru\\miniconda3\\envs\\torch\\lib\\site-packages\\IPython\\core\\interactiveshell.py:3146: DtypeWarning: Columns (3) have mixed types.Specify dtype option on import or set low_memory=False.\n",
      "  has_raised = await self.run_ast_nodes(code_ast.body, cell_name,\n"
     ]
    }
   ],
   "source": [
    "df_match = pd.read_csv(os.path.join(clean_data_path, \"match.csv\"))\n",
    "df_match = df_match.loc[:, ~df_match.columns.str.contains('^Unnamed')]\n",
    "\n",
    "df_ball = pd.read_csv(os.path.join(clean_data_path, \"ball.csv\"))\n",
    "df_ball = df_ball.loc[:, ~df_ball.columns.str.contains('^Unnamed')]"
   ]
  },
  {
   "cell_type": "code",
   "execution_count": 142,
   "metadata": {},
   "outputs": [],
   "source": [
    "def total_runs(player_id, tournaments=None, venue_id=None, past_n_years=None, overs_range=None, against_bowler=None, against_spin=None, against_pace=None):\n",
    "    \"\"\"\n",
    "        Total runs for a player\n",
    "        Args:\n",
    "            player_id - (integer) id of the target player\n",
    "            tournaments - (string) comma separated tournament codes eg: \"IPL,BBL\"\n",
    "            venue_id - (integer) id of venue. \n",
    "            past_n_years - (integer) value telling how many years in the past you want to consider\n",
    "            overs_range - (string) should be in the format 'a-b'. if you want to specifically know how the player is playing in a certain overs range. eg: \"0-6\"\n",
    "            against_bowler - (integer) player id of a specific bowler\n",
    "            against_spin - (boolean) mark it true if you want data only specific to spin. dont mark this if you supply 'against_bowler'\n",
    "            against_pace - (boolean) mark it true if you want data only specific to pace. dont mark this if you supply 'against_bowler'\n",
    "    \"\"\"\n",
    "    \n",
    "    # Grabbing all balls faced by this player\n",
    "    required_balls = df_ball[df_ball[\"batsman\"] == player_id]\n",
    "    \n",
    "    # Grabbing all matches to map ids\n",
    "    required_matches = df_match\n",
    "    \n",
    "    # Run the required_matches dataframe through each match filter\n",
    "    \n",
    "    if tournaments is not None:\n",
    "        tournaments_to_consider = [tournament_id_map[tournament_name] for tournament_name in tournaments.split(\",\")]\n",
    "        required_matches = required_matches[required_matches['tournament_id'].isin(tournaments_to_consider)]\n",
    "        \n",
    "    if venue_id is not None:\n",
    "        required_matches = required_matches[required_matches['venue_id'] == venue_id]\n",
    "        \n",
    "    if past_n_years is not None:\n",
    "        years_to_consider = [(datetime.date.today().year - i) for i in range(past_n_years+1)]\n",
    "        required_matches = required_matches[required_matches['match_date'].str.contains('|'.join(years_to_consider))]\n",
    "    \n",
    "    match_ids_to_consider = np.array(required_matches['match_id'])\n",
    "    required_balls = required_balls[required_balls['match_id'].isin(match_ids_to_consider)]\n",
    "        \n",
    "    if overs_range is not None:\n",
    "        start_over_to_consider = int(overs_range.split(\"-\")[0])\n",
    "        end_over_to_consider = int(overs_range.split(\"-\")[1])\n",
    "        required_balls = required_balls[(required_balls['ball_number'] >= start_over_to_consider) & (required_balls['ball_number'] <= end_over_to_consider)]\n",
    "        \n",
    "    if against_bowler is not None:\n",
    "        required_balls = required_balls[required_balls['bowler'] == against_bowler]\n",
    "    \n",
    "    # TODO\n",
    "    if against_spin is not None:\n",
    "        only_spin = True\n",
    "    \n",
    "    # TODO\n",
    "    if against_pace is not None:\n",
    "        only_pace = True\n",
    "        \n",
    "    return required_balls"
   ]
  },
  {
   "cell_type": "code",
   "execution_count": 150,
   "metadata": {},
   "outputs": [
    {
     "name": "stdout",
     "output_type": "stream",
     "text": [
      "Overs range 15-20\n",
      "Total balls faced 59\n",
      "Total runs 95\n",
      "Strike Rate 161.01694915254237\n"
     ]
    }
   ],
   "source": [
    "player_id = player_id_map[\"KA Pollard\"]\n",
    "venue_id = venue_id_map[\"M Chinnaswamy Stadium\"]\n",
    "overs_range = \"15-20\"\n",
    "required_balls = total_runs(player_id, venue_id=venue_id, overs_range=overs_range)\n",
    "print(f\"Overs range {overs_range}\")\n",
    "print(f\"Total balls faced {len(required_balls)}\")\n",
    "print(f\"Total runs {required_balls['batsman_runs'].sum()}\")\n",
    "print(f\"Strike Rate {(required_balls['batsman_runs'].sum() / len(required_balls)) * 100}\")"
   ]
  },
  {
   "cell_type": "code",
   "execution_count": null,
   "metadata": {},
   "outputs": [],
   "source": []
  },
  {
   "cell_type": "code",
   "execution_count": null,
   "metadata": {},
   "outputs": [],
   "source": []
  },
  {
   "cell_type": "code",
   "execution_count": null,
   "metadata": {},
   "outputs": [],
   "source": []
  },
  {
   "cell_type": "code",
   "execution_count": null,
   "metadata": {},
   "outputs": [],
   "source": []
  }
 ],
 "metadata": {
  "kernelspec": {
   "display_name": "torch",
   "language": "python",
   "name": "torch"
  },
  "language_info": {
   "codemirror_mode": {
    "name": "ipython",
    "version": 3
   },
   "file_extension": ".py",
   "mimetype": "text/x-python",
   "name": "python",
   "nbconvert_exporter": "python",
   "pygments_lexer": "ipython3",
   "version": "3.8.5"
  }
 },
 "nbformat": 4,
 "nbformat_minor": 4
}
