{
 "cells": [
  {
   "cell_type": "code",
   "execution_count": 1,
   "metadata": {},
   "outputs": [
    {
     "name": "stderr",
     "output_type": "stream",
     "text": [
      "C:\\Users\\aniru\\miniconda3\\envs\\torch\\lib\\site-packages\\IPython\\core\\interactiveshell.py:3338: DtypeWarning: Columns (3) have mixed types.Specify dtype option on import or set low_memory=False.\n",
      "  if (await self.run_code(code, result,  async_=asy)):\n"
     ]
    }
   ],
   "source": [
    "# Basic\n",
    "from collections import Counter\n",
    "import datetime\n",
    "import inspect\n",
    "import math\n",
    "import numpy as np\n",
    "import os\n",
    "import pprint\n",
    "import sys\n",
    "\n",
    "# yaml specific\n",
    "import yaml\n",
    "\n",
    "# Data handling\n",
    "from fuzzywuzzy import fuzz, process\n",
    "import pandas as pd\n",
    "from tqdm import tqdm\n",
    "\n",
    "# This is to add the root project folder to sys.path so that imports are easy\n",
    "currentdir = os.path.dirname(os.path.abspath(inspect.getfile(inspect.currentframe())))\n",
    "parentdir = os.path.dirname(currentdir)\n",
    "sys.path.insert(0,parentdir) \n",
    "\n",
    "# my library\n",
    "from src.db_utils import update_player, add_player \n",
    "from src.core import runs_scored\n",
    "from src.insights import total_runs"
   ]
  },
  {
   "cell_type": "code",
   "execution_count": 4,
   "metadata": {},
   "outputs": [],
   "source": [
    "# Config variables\n",
    "raw_data_path = os.path.join(\"..\", \"raw_data\") \n",
    "clean_data_path = os.path.join(\"..\", \"clean_data\") "
   ]
  },
  {
   "cell_type": "code",
   "execution_count": 5,
   "metadata": {},
   "outputs": [],
   "source": [
    "df_tournament = pd.read_csv(os.path.join(clean_data_path, \"tournament.csv\"))\n",
    "df_tournament = df_tournament.loc[:, ~df_tournament.columns.str.contains('^Unnamed')]\n",
    "tournament_id_map = dict(zip(df_tournament.tournament_name, df_tournament.tournament_id))"
   ]
  },
  {
   "cell_type": "code",
   "execution_count": 8,
   "metadata": {},
   "outputs": [],
   "source": [
    "df_venue = pd.read_csv(os.path.join(clean_data_path, \"venue.csv\"))\n",
    "df_venue = df_venue.loc[:, ~df_venue.columns.str.contains('^Unnamed')]\n",
    "venue_id_map = dict(zip(df_venue.venue_name, df_venue.venue_id))\n",
    "\n",
    "# Mapping the duplicates as well to its correct venue ids\n",
    "# IPL maps\n",
    "venue_id_map[\"Punjab Cricket Association IS Bindra Stadium, Mohali\"] = venue_id_map[\"Punjab Cricket Association Stadium, Mohali\"]\n",
    "venue_id_map[\"M.Chinnaswamy Stadium\"] = venue_id_map[\"M Chinnaswamy Stadium\"]\n",
    "# BBL maps\n",
    "#venue_id_map[\"Brisbane Cricket Ground\"] = venue_id_map[\"Brisbane Cricket Ground, Woolloongabba\"]"
   ]
  },
  {
   "cell_type": "code",
   "execution_count": 9,
   "metadata": {},
   "outputs": [],
   "source": [
    "df_team = pd.read_csv(os.path.join(clean_data_path, \"team.csv\"))\n",
    "df_team = df_team.loc[:, ~df_team.columns.str.contains('^Unnamed')]\n",
    "team_id_map = dict(zip(df_team.team_name, df_team.team_id))"
   ]
  },
  {
   "cell_type": "code",
   "execution_count": 10,
   "metadata": {},
   "outputs": [],
   "source": [
    "df_player = pd.read_csv(os.path.join(clean_data_path, \"player.csv\"))\n",
    "df_player = df_player.loc[:, ~df_player.columns.str.contains('^Unnamed')]\n",
    "player_dispname_id_map = dict(zip(df_player.player_display_name, df_player.player_id))\n",
    "player_name_id_map = dict(zip(df_player.player_name, df_player.player_id))"
   ]
  },
  {
   "cell_type": "code",
   "execution_count": 11,
   "metadata": {},
   "outputs": [
    {
     "name": "stderr",
     "output_type": "stream",
     "text": [
      "C:\\Users\\aniru\\miniconda3\\envs\\torch\\lib\\site-packages\\IPython\\core\\interactiveshell.py:3146: DtypeWarning: Columns (3) have mixed types.Specify dtype option on import or set low_memory=False.\n",
      "  has_raised = await self.run_ast_nodes(code_ast.body, cell_name,\n"
     ]
    }
   ],
   "source": [
    "df_match = pd.read_csv(os.path.join(clean_data_path, \"match.csv\"))\n",
    "df_match = df_match.loc[:, ~df_match.columns.str.contains('^Unnamed')]\n",
    "\n",
    "df_ball = pd.read_csv(os.path.join(clean_data_path, \"ball.csv\"))\n",
    "df_ball = df_ball.loc[:, ~df_ball.columns.str.contains('^Unnamed')]"
   ]
  },
  {
   "cell_type": "code",
   "execution_count": null,
   "metadata": {},
   "outputs": [],
   "source": [
    "player_name = \"Virat Kohli\"\n",
    "player_id = player_name_id_map[player_name]\n",
    "venue_name = \"ALL\"\n",
    "match_format = \"T20\"\n",
    "tournaments = []\n",
    "years_range = [str(year) for year in range(2000, 2022)]\n",
    "overs_range = [0, 20]\n",
    "top_n=20"
   ]
  },
  {
   "cell_type": "code",
   "execution_count": null,
   "metadata": {},
   "outputs": [],
   "source": []
  },
  {
   "cell_type": "code",
   "execution_count": 16,
   "metadata": {},
   "outputs": [
    {
     "data": {
      "text/plain": [
       "[nan,\n",
       " 'caught',\n",
       " 'obstructing the field',\n",
       " 'caught and bowled',\n",
       " 'bowled',\n",
       " 'run out',\n",
       " 'hit wicket',\n",
       " 'lbw',\n",
       " 'retired hurt',\n",
       " 'stumped']"
      ]
     },
     "execution_count": 16,
     "metadata": {},
     "output_type": "execute_result"
    }
   ],
   "source": [
    "list(set(np.array(df_ball[\"dismissal_type\"])))"
   ]
  },
  {
   "cell_type": "code",
   "execution_count": null,
   "metadata": {},
   "outputs": [],
   "source": []
  },
  {
   "cell_type": "code",
   "execution_count": null,
   "metadata": {},
   "outputs": [],
   "source": []
  }
 ],
 "metadata": {
  "kernelspec": {
   "display_name": "torch",
   "language": "python",
   "name": "torch"
  },
  "language_info": {
   "codemirror_mode": {
    "name": "ipython",
    "version": 3
   },
   "file_extension": ".py",
   "mimetype": "text/x-python",
   "name": "python",
   "nbconvert_exporter": "python",
   "pygments_lexer": "ipython3",
   "version": "3.8.5"
  }
 },
 "nbformat": 4,
 "nbformat_minor": 4
}
