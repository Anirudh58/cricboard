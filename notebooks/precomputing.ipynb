{
 "cells": [
  {
   "cell_type": "code",
   "execution_count": 1,
   "id": "armed-character",
   "metadata": {},
   "outputs": [
    {
     "name": "stderr",
     "output_type": "stream",
     "text": [
      "C:\\Users\\aniru\\miniconda3\\envs\\cricboard\\lib\\site-packages\\fuzzywuzzy\\fuzz.py:11: UserWarning: Using slow pure-python SequenceMatcher. Install python-Levenshtein to remove this warning\n",
      "  warnings.warn('Using slow pure-python SequenceMatcher. Install python-Levenshtein to remove this warning')\n"
     ]
    }
   ],
   "source": [
    "# Basic\n",
    "from collections import Counter\n",
    "import datetime\n",
    "import math\n",
    "import numpy as np\n",
    "import os\n",
    "import pprint\n",
    "import sys\n",
    "\n",
    "# yaml specific\n",
    "import yaml\n",
    "\n",
    "# Data handling\n",
    "from fuzzywuzzy import fuzz, process\n",
    "import pandas as pd\n",
    "from tqdm import tqdm"
   ]
  },
  {
   "cell_type": "code",
   "execution_count": 4,
   "id": "directed-generic",
   "metadata": {},
   "outputs": [],
   "source": [
    "# We want the final object to be in this format\n",
    "\n",
    "obj = {\n",
    "    \"player_id_1\" : {\n",
    "        \"match_id_1\" : {\n",
    "            \"runs_scored\" : {\n",
    "                \"type_1\" : 1,\n",
    "                \"type_2\" : 1\n",
    "            },\n",
    "            \"balls_faced\" : 1,\n",
    "            \"num_4s\" : 1,\n",
    "            \"num_6s\" : 1,\n",
    "            \"wickets_taken\" : {\n",
    "                \"lhb\" : 1,\n",
    "                \"rhb\" : 1\n",
    "            },\n",
    "            \"balls_bowled\" : 1,\n",
    "            \"catches\" : 1,\n",
    "            \"runouts\" : 1,\n",
    "            \"fantasy_points\" : 1\n",
    "        }\n",
    "    }\n",
    "}"
   ]
  },
  {
   "cell_type": "code",
   "execution_count": null,
   "id": "broken-flood",
   "metadata": {},
   "outputs": [],
   "source": []
  }
 ],
 "metadata": {
  "kernelspec": {
   "display_name": "cricboard",
   "language": "python",
   "name": "cricboard"
  },
  "language_info": {
   "codemirror_mode": {
    "name": "ipython",
    "version": 3
   },
   "file_extension": ".py",
   "mimetype": "text/x-python",
   "name": "python",
   "nbconvert_exporter": "python",
   "pygments_lexer": "ipython3",
   "version": "3.8.8"
  }
 },
 "nbformat": 4,
 "nbformat_minor": 5
}
