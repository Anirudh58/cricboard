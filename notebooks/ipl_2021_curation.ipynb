{
 "cells": [
  {
   "cell_type": "code",
   "execution_count": null,
   "metadata": {},
   "outputs": [],
   "source": [
    "import requests\n",
    "from bs4 import BeautifulSoup\n",
    "import pandas as pd\n",
    "import os\n",
    "from tqdm import tqdm\n",
    "\n",
    "clean_data_path = os.path.join(\"..\", \"clean_data\") "
   ]
  },
  {
   "cell_type": "markdown",
   "metadata": {},
   "source": [
    "### Utility functions."
   ]
  },
  {
   "cell_type": "code",
   "execution_count": null,
   "metadata": {},
   "outputs": [],
   "source": [
    "def get_from_obj(obj, key):\n",
    "    try:\n",
    "        return obj[key]\n",
    "    except Exception as e:\n",
    "        return \"\""
   ]
  },
  {
   "cell_type": "code",
   "execution_count": null,
   "metadata": {},
   "outputs": [],
   "source": [
    "schedule = {}\n",
    "\n",
    "URL = 'https://www.espncricinfo.com/series/ipl-2021-1249214/match-schedule-fixtures'\n",
    "page = requests.get(URL)\n",
    "page_content = BeautifulSoup(page.content, 'html.parser')\n",
    "matches = page_content.find_all('div', class_='match-info match-info-FIXTURES')\n",
    "match_no = 1\n",
    "for match in matches:\n",
    "    status = match.find('div', class_='status')\n",
    "    time = status.find('span').text\n",
    "    venue = match.find('div', class_='description').text.split(\",\")[1]\n",
    "    teams = match.find_all('p', class_='name')\n",
    "    schedule[match_no] = {\n",
    "        \"match_no\" : match_no,\n",
    "        \"time\" : time, \n",
    "        \"venue\" : venue,\n",
    "        \"team_1\" : teams[0].text,\n",
    "        \"team_2\" : teams[1].text\n",
    "    }\n",
    "    match_no += 1\n",
    "df_ipl_schedule_csv = pd.DataFrame.from_dict(schedule, \"index\")\n",
    "df_ipl_schedule_csv.to_csv(os.path.join(clean_data_path, \"ipl_schedule.csv\"), index=False)"
   ]
  },
  {
   "cell_type": "code",
   "execution_count": null,
   "metadata": {},
   "outputs": [],
   "source": [
    "team_urls = {\n",
    "    \"csk\" : \"https://www.espncricinfo.com/ci/content/squad/1252150.html\",\n",
    "    \"dc\" : \"https://www.espncricinfo.com/ci/content/squad/1252198.html\",\n",
    "    \"kkr\" : \"https://www.espncricinfo.com/ci/content/squad/1252188.html\",\n",
    "    \"mi\" : \"https://www.espncricinfo.com/ci/content/squad/1252149.html\",\n",
    "    \"pk\" : \"https://www.espncricinfo.com/ci/content/squad/1252194.html\",\n",
    "    \"rr\" : \"https://www.espncricinfo.com/ci/content/squad/1252201.html\",\n",
    "    \"rcb\" : \"https://www.espncricinfo.com/ci/content/squad/1252176.html\",\n",
    "    \"srh\" : \"https://www.espncricinfo.com/ci/content/squad/1252199.html\"\n",
    "}"
   ]
  },
  {
   "cell_type": "code",
   "execution_count": null,
   "metadata": {},
   "outputs": [],
   "source": [
    "ipl_squads_csv = {}\n",
    "player_id = 1;\n",
    "for team in tqdm(team_urls):\n",
    "    team_url = team_urls[team]\n",
    "    team_page = requests.get(team_url)\n",
    "    team_page_content = BeautifulSoup(team_page.content, 'html.parser')\n",
    "    main = team_page_content.find_all('div', class_='squads_main')\n",
    "    team_name = main[0].find_all('h1')[0].text.split(\" / \")[0][:-6]\n",
    "    players = team_page_content.find_all('div', class_='large-13')\n",
    "    for player in tqdm(players):\n",
    "        player_header = player.find('a')\n",
    "        espn_player_id = player_header['href'].split(\"/\")[-1][:-5]\n",
    "        player_name = player_header.text.strip()\n",
    "        player_display_name = \"\" # This needs to be updated later with fuzzy matching\n",
    "        \n",
    "        player_url = 'https://www.espncricinfo.com/ci/content/player/' + espn_player_id +'.html'\n",
    "        player_page = requests.get(player_url)\n",
    "        player_page_content = BeautifulSoup(player_page.content, 'html.parser')\n",
    "        player_infos = player_page_content.find_all('p', class_='ciPlayerinformationtxt')\n",
    "        player_info_map = {}\n",
    "        for info in player_infos:\n",
    "            player_info_map[info.find('b').text] = info.find('span').text\n",
    "        ipl_squads_csv[player_id] = {\n",
    "            \"player_id\" : player_id,\n",
    "            \"team_name\" : team_name,\n",
    "            \"player_name\" : player_name,\n",
    "            \"player_display_name\" : player_display_name,\n",
    "            \"player_full_name\" : player_info_map[\"Full name\"],\n",
    "            \"batting_style\" : get_from_obj(player_info_map, \"Batting style\"),\n",
    "            \"bowling_style\" : get_from_obj(player_info_map, \"Bowling style\"),\n",
    "            \"playling_role\" : get_from_obj(player_info_map, \"Playing role\")\n",
    "        }\n",
    "        player_id += 1\n",
    "df_ipl_squads_csv = pd.DataFrame.from_dict(ipl_squads_csv, \"index\")\n",
    "df_ipl_squads_csv.to_csv(os.path.join(clean_data_path, \"ipl_squads.csv\"), index=False)"
   ]
  }
 ],
 "metadata": {
  "kernelspec": {
   "display_name": "cricboard",
   "language": "python",
   "name": "cricboard"
  },
  "language_info": {
   "codemirror_mode": {
    "name": "ipython",
    "version": 3
   },
   "file_extension": ".py",
   "mimetype": "text/x-python",
   "name": "python",
   "nbconvert_exporter": "python",
   "pygments_lexer": "ipython3",
   "version": "3.8.8"
  }
 },
 "nbformat": 4,
 "nbformat_minor": 4
}
