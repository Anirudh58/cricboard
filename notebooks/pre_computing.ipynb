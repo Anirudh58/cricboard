{
 "cells": [
  {
   "cell_type": "code",
   "execution_count": null,
   "id": "funny-accordance",
   "metadata": {},
   "outputs": [],
   "source": [
    "import numpy as np\n",
    "import os\n",
    "import pandas as pd\n",
    "from tqdm import tqdm\n",
    "import copy\n",
    "import pickle\n"
   ]
  },
  {
   "cell_type": "code",
   "execution_count": null,
   "id": "lesbian-thesaurus",
   "metadata": {},
   "outputs": [],
   "source": [
    "# Config variables\n",
    "clean_data_path = os.path.join(\"..\", \"clean_data\") "
   ]
  },
  {
   "cell_type": "code",
   "execution_count": null,
   "id": "vocational-spread",
   "metadata": {},
   "outputs": [],
   "source": [
    "df_player = pd.read_csv(os.path.join(clean_data_path, \"player.csv\"))\n",
    "df_player = df_player.loc[:, ~df_player.columns.str.contains('^Unnamed')]"
   ]
  },
  {
   "cell_type": "code",
   "execution_count": null,
   "id": "promotional-excerpt",
   "metadata": {},
   "outputs": [],
   "source": [
    "df_ball = pd.read_csv(os.path.join(clean_data_path, \"ball.csv\"))\n",
    "df_ball = df_ball.loc[:, ~df_ball.columns.str.contains('^Unnamed')]"
   ]
  },
  {
   "cell_type": "code",
   "execution_count": null,
   "id": "protected-rebate",
   "metadata": {},
   "outputs": [],
   "source": [
    "empty_match_obj = {\n",
    "    \"runs_scored\" : {},\n",
    "    \"balls_faced\" : 0,\n",
    "    \"num_4s\" : 0,\n",
    "    \"num_6s\" : 0,\n",
    "    \"wickets_taken\" : {\n",
    "        \"Left-hand bat\" : 0,\n",
    "        \"Right-hand bat\" : 0 \n",
    "    },\n",
    "    \"balls_bowled\" : 0,\n",
    "    \"catches\" : 0,\n",
    "    \"direct_runouts\" : 0,\n",
    "    \"indirect_runouts\" : 0,\n",
    "    \"stumping\" : 0,\n",
    "    \"fantasy_points\" :0\n",
    "}"
   ]
  },
  {
   "cell_type": "code",
   "execution_count": null,
   "id": "supreme-facing",
   "metadata": {},
   "outputs": [],
   "source": [
    "bowler_dismissal_type = ['bowled',\n",
    " 'caught',\n",
    " 'caught and bowled',\n",
    " 'hit wicket',\n",
    " 'lbw',\n",
    " 'obstructing the field',\n",
    " 'stumped']"
   ]
  },
  {
   "cell_type": "code",
   "execution_count": null,
   "id": "considerable-conference",
   "metadata": {},
   "outputs": [],
   "source": [
    "bowling_styles = set(df_player[\"bowling_style\"])\n",
    "empty_runs_scored_obj= {}\n",
    "for bowling_style in bowling_styles:\n",
    "    if type(bowling_style) != str:\n",
    "        continue\n",
    "    empty_runs_scored_obj[bowling_style] = 0\n",
    "empty_match_obj[\"runs_scored\"] = empty_runs_scored_obj"
   ]
  },
  {
   "cell_type": "code",
   "execution_count": null,
   "id": "possible-delivery",
   "metadata": {},
   "outputs": [],
   "source": [
    "fantasy_obj = {}"
   ]
  },
  {
   "cell_type": "code",
   "execution_count": null,
   "id": "empty-robinson",
   "metadata": {},
   "outputs": [],
   "source": [
    "for i,row in tqdm(df_ball.iterrows()):\n",
    "    match_id = int(row[\"match_id\"])\n",
    "    try:\n",
    "        fantasy_obj[row[\"batsman\"]]\n",
    "    except Exception as e:\n",
    "        fantasy_obj[row[\"batsman\"]] = {}\n",
    "    \n",
    "    try: \n",
    "        fantasy_obj[row[\"batsman\"]][match_id]\n",
    "    except Exception as e:\n",
    "        fantasy_obj[row[\"batsman\"]][match_id] = copy.deepcopy(empty_match_obj)\n",
    "        \n",
    "    try:\n",
    "        fantasy_obj[row[\"bowler\"]]\n",
    "    except Exception as e:\n",
    "        fantasy_obj[row[\"bowler\"]] = {}\n",
    "    \n",
    "    try: \n",
    "        fantasy_obj[row[\"bowler\"]][match_id]\n",
    "    except Exception as e:\n",
    "        fantasy_obj[row[\"bowler\"]][match_id] = copy.deepcopy(empty_match_obj)\n",
    "\n",
    "    batsman = df_player.loc[df_player['player_id'] == row[\"batsman\"]]\n",
    "    bowler = df_player.loc[df_player['player_id'] == row[\"bowler\"]]\n",
    "    fielders = []\n",
    "    if type(row[\"fielders\"]) == str:\n",
    "        fielders = row[\"fielders\"].split(\",\")\n",
    "    \n",
    "    #batsman\n",
    "    batsman_runs = row[\"batsman_runs\"]\n",
    "    if row[\"wide_runs\"] == 0:\n",
    "        fantasy_obj[row[\"batsman\"]][match_id][\"balls_faced\"] += 1\n",
    "    \n",
    "    fantasy_obj[row[\"batsman\"]][match_id][\"runs_scored\"][bowler[\"bowling_style\"].values[0]] += batsman_runs\n",
    "    if batsman_runs == 6:\n",
    "        fantasy_obj[row[\"batsman\"]][match_id][\"num_6s\"] += 1\n",
    "    elif batsman_runs == 4:\n",
    "        fantasy_obj[row[\"batsman\"]][match_id][\"num_4s\"] += 1\n",
    "\n",
    "    #bowler\n",
    "    if row[\"dismissal_type\"] in bowler_dismissal_type:\n",
    "        fantasy_obj[row[\"bowler\"]][match_id][\"wickets_taken\"][batsman[\"batting_style\"].values[0]] += 1\n",
    "    if row[\"wide_runs\"] == 0 & row[\"noball_runs\"] == 0:\n",
    "        fantasy_obj[row[\"bowler\"]][match_id][\"balls_bowled\"] += 1\n",
    "        \n",
    "    #fielder\n",
    "    for fielder in fielders:\n",
    "        fielder = int(fielder)\n",
    "        try:\n",
    "            fantasy_obj[fielder]\n",
    "        except Exception as e:\n",
    "            fantasy_obj[fielder] = {}\n",
    "        try: \n",
    "            fantasy_obj[fielder][match_id]\n",
    "        except Exception as e:\n",
    "            fantasy_obj[fielder][match_id] = copy.deepcopy(empty_match_obj)\n",
    "        \n",
    "        if row[\"dismissal_type\"] == \"run out\":\n",
    "            if len(fielders) == 1:\n",
    "                fantasy_obj[fielder][match_id][\"direct_runouts\"] += 1\n",
    "            else:\n",
    "                fantasy_obj[fielder][match_id][\"indirect_runouts\"] += 1\n",
    "        elif row[\"dismissal_type\"] == \"stumped\":\n",
    "            fantasy_obj[fielder][match_id][\"stumping\"] += 1\n",
    "        else:\n",
    "            fantasy_obj[fielder][match_id][\"catches\"] += 1"
   ]
  },
  {
   "cell_type": "code",
   "execution_count": null,
   "id": "middle-gibson",
   "metadata": {},
   "outputs": [],
   "source": [
    "with open(os.path.join(clean_data_path, 'fantasy.pkl'), 'wb') as fantasy_pi:\n",
    "    pickle.dump(fantasy_obj, fantasy_pi, pickle.HIGHEST_PROTOCOL)"
   ]
  }
 ],
 "metadata": {
  "kernelspec": {
   "display_name": "cricboard",
   "language": "python",
   "name": "cricboard"
  },
  "language_info": {
   "codemirror_mode": {
    "name": "ipython",
    "version": 3
   },
   "file_extension": ".py",
   "mimetype": "text/x-python",
   "name": "python",
   "nbconvert_exporter": "python",
   "pygments_lexer": "ipython3",
   "version": "3.8.8"
  }
 },
 "nbformat": 4,
 "nbformat_minor": 5
}
