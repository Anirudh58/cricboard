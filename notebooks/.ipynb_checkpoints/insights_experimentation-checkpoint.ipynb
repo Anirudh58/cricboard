{
 "cells": [
  {
   "cell_type": "code",
   "execution_count": 1,
   "metadata": {},
   "outputs": [
    {
     "name": "stderr",
     "output_type": "stream",
     "text": [
      "C:\\Users\\aniru\\miniconda3\\envs\\torch\\lib\\site-packages\\IPython\\core\\interactiveshell.py:3338: DtypeWarning: Columns (3) have mixed types.Specify dtype option on import or set low_memory=False.\n",
      "  if (await self.run_code(code, result,  async_=asy)):\n"
     ]
    }
   ],
   "source": [
    "# Basic\n",
    "from collections import Counter\n",
    "import datetime\n",
    "import math\n",
    "import numpy as np\n",
    "import os\n",
    "import pprint\n",
    "\n",
    "# yaml specific\n",
    "import yaml\n",
    "\n",
    "# Data handling\n",
    "from fuzzywuzzy import fuzz, process\n",
    "import pandas as pd\n",
    "from tqdm import tqdm\n",
    "\n",
    "# my library\n",
    "from db_utils import update_player, add_player \n",
    "from core import runs\n",
    "from insights import total_runs"
   ]
  },
  {
   "cell_type": "code",
   "execution_count": 2,
   "metadata": {},
   "outputs": [],
   "source": [
    "# Config variables\n",
    "raw_data_path = \"raw_data\"\n",
    "clean_data_path = \"clean_data\"\n",
    "tournament_name = \"IPL\""
   ]
  },
  {
   "cell_type": "code",
   "execution_count": 3,
   "metadata": {},
   "outputs": [],
   "source": [
    "df_tournament = pd.read_csv(os.path.join(clean_data_path, \"tournament.csv\"))\n",
    "df_tournament = df_tournament.loc[:, ~df_tournament.columns.str.contains('^Unnamed')]\n",
    "tournament_id_map = dict(zip(df_tournament.tournament_name, df_tournament.tournament_id))"
   ]
  },
  {
   "cell_type": "code",
   "execution_count": 4,
   "metadata": {},
   "outputs": [],
   "source": [
    "df_venue = pd.read_csv(os.path.join(clean_data_path, \"venue.csv\"))\n",
    "df_venue = df_venue.loc[:, ~df_venue.columns.str.contains('^Unnamed')]\n",
    "venue_id_map = dict(zip(df_venue.venue_name, df_venue.venue_id))\n",
    "\n",
    "# Mapping the duplicates as well to its correct venue ids\n",
    "venue_id_map[\"Punjab Cricket Association IS Bindra Stadium, Mohali\"] = venue_id_map[\"Punjab Cricket Association Stadium, Mohali\"]\n",
    "venue_id_map[\"M.Chinnaswamy Stadium\"] = venue_id_map[\"M Chinnaswamy Stadium\"]"
   ]
  },
  {
   "cell_type": "code",
   "execution_count": 5,
   "metadata": {},
   "outputs": [],
   "source": [
    "df_team = pd.read_csv(os.path.join(clean_data_path, \"team.csv\"))\n",
    "df_team = df_team.loc[:, ~df_team.columns.str.contains('^Unnamed')]\n",
    "team_id_map = dict(zip(df_team.team_name, df_team.team_id))"
   ]
  },
  {
   "cell_type": "code",
   "execution_count": 6,
   "metadata": {},
   "outputs": [],
   "source": [
    "df_player = pd.read_csv(os.path.join(clean_data_path, \"player.csv\"))\n",
    "df_player = df_player.loc[:, ~df_player.columns.str.contains('^Unnamed')]\n",
    "player_dispname_id_map = dict(zip(df_player.player_display_name, df_player.player_id))\n",
    "player_name_id_map = dict(zip(df_player.player_name, df_player.player_id))"
   ]
  },
  {
   "cell_type": "code",
   "execution_count": 7,
   "metadata": {},
   "outputs": [
    {
     "name": "stderr",
     "output_type": "stream",
     "text": [
      "C:\\Users\\aniru\\miniconda3\\envs\\torch\\lib\\site-packages\\IPython\\core\\interactiveshell.py:3146: DtypeWarning: Columns (3) have mixed types.Specify dtype option on import or set low_memory=False.\n",
      "  has_raised = await self.run_ast_nodes(code_ast.body, cell_name,\n"
     ]
    }
   ],
   "source": [
    "df_match = pd.read_csv(os.path.join(clean_data_path, \"match.csv\"))\n",
    "df_match = df_match.loc[:, ~df_match.columns.str.contains('^Unnamed')]\n",
    "\n",
    "df_ball = pd.read_csv(os.path.join(clean_data_path, \"ball.csv\"))\n",
    "df_ball = df_ball.loc[:, ~df_ball.columns.str.contains('^Unnamed')]"
   ]
  },
  {
   "cell_type": "code",
   "execution_count": 16,
   "metadata": {},
   "outputs": [],
   "source": [
    "player_name = \"Virat Kohli\"\n",
    "player_id = player_name_id_map[player_name]\n",
    "venue_name = \"ALL\"\n",
    "match_format = \"T20\"\n",
    "tournaments = []\n",
    "years_range = [str(year) for year in range(2000, 2022)]\n",
    "overs_range = [0, 20]\n",
    "top_n=20"
   ]
  },
  {
   "cell_type": "code",
   "execution_count": 9,
   "metadata": {
    "collapsed": true,
    "jupyter": {
     "outputs_hidden": true
    }
   },
   "outputs": [
    {
     "data": {
      "text/html": [
       "<div>\n",
       "<style scoped>\n",
       "    .dataframe tbody tr th:only-of-type {\n",
       "        vertical-align: middle;\n",
       "    }\n",
       "\n",
       "    .dataframe tbody tr th {\n",
       "        vertical-align: top;\n",
       "    }\n",
       "\n",
       "    .dataframe thead th {\n",
       "        text-align: right;\n",
       "    }\n",
       "</style>\n",
       "<table border=\"1\" class=\"dataframe\">\n",
       "  <thead>\n",
       "    <tr style=\"text-align: right;\">\n",
       "      <th></th>\n",
       "      <th>player_name</th>\n",
       "      <th>runs</th>\n",
       "    </tr>\n",
       "  </thead>\n",
       "  <tbody>\n",
       "    <tr>\n",
       "      <th>0</th>\n",
       "      <td>Virat Kohli</td>\n",
       "      <td>5888</td>\n",
       "    </tr>\n",
       "    <tr>\n",
       "      <th>1</th>\n",
       "      <td>Suresh Raina</td>\n",
       "      <td>5376</td>\n",
       "    </tr>\n",
       "    <tr>\n",
       "      <th>2</th>\n",
       "      <td>David Warner</td>\n",
       "      <td>5254</td>\n",
       "    </tr>\n",
       "    <tr>\n",
       "      <th>3</th>\n",
       "      <td>Rohit Sharma</td>\n",
       "      <td>5232</td>\n",
       "    </tr>\n",
       "    <tr>\n",
       "      <th>4</th>\n",
       "      <td>Shikhar Dhawan</td>\n",
       "      <td>5197</td>\n",
       "    </tr>\n",
       "    <tr>\n",
       "      <th>5</th>\n",
       "      <td>AB de Villiers</td>\n",
       "      <td>4868</td>\n",
       "    </tr>\n",
       "    <tr>\n",
       "      <th>6</th>\n",
       "      <td>Chris Gayle</td>\n",
       "      <td>4804</td>\n",
       "    </tr>\n",
       "    <tr>\n",
       "      <th>7</th>\n",
       "      <td>MS Dhoni</td>\n",
       "      <td>4632</td>\n",
       "    </tr>\n",
       "    <tr>\n",
       "      <th>8</th>\n",
       "      <td>Robin Uthappa</td>\n",
       "      <td>4609</td>\n",
       "    </tr>\n",
       "    <tr>\n",
       "      <th>9</th>\n",
       "      <td>Gautam Gambhir</td>\n",
       "      <td>4217</td>\n",
       "    </tr>\n",
       "    <tr>\n",
       "      <th>10</th>\n",
       "      <td>Ajinkya Rahane</td>\n",
       "      <td>3933</td>\n",
       "    </tr>\n",
       "    <tr>\n",
       "      <th>11</th>\n",
       "      <td>Shane Watson</td>\n",
       "      <td>3880</td>\n",
       "    </tr>\n",
       "    <tr>\n",
       "      <th>12</th>\n",
       "      <td>Dinesh Karthik</td>\n",
       "      <td>3824</td>\n",
       "    </tr>\n",
       "    <tr>\n",
       "      <th>13</th>\n",
       "      <td>Ambati Rayudu</td>\n",
       "      <td>3659</td>\n",
       "    </tr>\n",
       "    <tr>\n",
       "      <th>14</th>\n",
       "      <td>Manish Pandey</td>\n",
       "      <td>3277</td>\n",
       "    </tr>\n",
       "    <tr>\n",
       "      <th>15</th>\n",
       "      <td>Yusuf Pathan</td>\n",
       "      <td>3222</td>\n",
       "    </tr>\n",
       "    <tr>\n",
       "      <th>16</th>\n",
       "      <td>Kieron Pollard</td>\n",
       "      <td>3048</td>\n",
       "    </tr>\n",
       "    <tr>\n",
       "      <th>17</th>\n",
       "      <td>Brendon McCullum</td>\n",
       "      <td>2882</td>\n",
       "    </tr>\n",
       "    <tr>\n",
       "      <th>18</th>\n",
       "      <td>Parthiv Patel</td>\n",
       "      <td>2848</td>\n",
       "    </tr>\n",
       "    <tr>\n",
       "      <th>19</th>\n",
       "      <td>Yuvraj Singh</td>\n",
       "      <td>2754</td>\n",
       "    </tr>\n",
       "  </tbody>\n",
       "</table>\n",
       "</div>"
      ],
      "text/plain": [
       "         player_name  runs\n",
       "0        Virat Kohli  5888\n",
       "1       Suresh Raina  5376\n",
       "2       David Warner  5254\n",
       "3       Rohit Sharma  5232\n",
       "4     Shikhar Dhawan  5197\n",
       "5     AB de Villiers  4868\n",
       "6        Chris Gayle  4804\n",
       "7           MS Dhoni  4632\n",
       "8      Robin Uthappa  4609\n",
       "9     Gautam Gambhir  4217\n",
       "10    Ajinkya Rahane  3933\n",
       "11      Shane Watson  3880\n",
       "12    Dinesh Karthik  3824\n",
       "13     Ambati Rayudu  3659\n",
       "14     Manish Pandey  3277\n",
       "15      Yusuf Pathan  3222\n",
       "16    Kieron Pollard  3048\n",
       "17  Brendon McCullum  2882\n",
       "18     Parthiv Patel  2848\n",
       "19      Yuvraj Singh  2754"
      ]
     },
     "execution_count": 9,
     "metadata": {},
     "output_type": "execute_result"
    }
   ],
   "source": [
    "total_runs(player_name, top_n=top_n, match_format=match_format, tournaments=tournaments, venue_name=venue_name, overs_range=overs_range, years_range=years_range)"
   ]
  },
  {
   "cell_type": "code",
   "execution_count": 10,
   "metadata": {
    "jupyter": {
     "source_hidden": true
    }
   },
   "outputs": [],
   "source": [
    "def dismissals(player, tournaments=None, venue=None, years=None, overs_range=None, against_spin=None, against_pace=None, against_bowler=None):\n",
    "    \"\"\"\n",
    "        Total dismissals of this player given the conditions\n",
    "        Args:\n",
    "            player - (int) id of target player\n",
    "            tournaments - (list of ints) list of tournament ids\n",
    "            venue - (int) id of venue. \n",
    "            years - (list) list of years you want to consider\n",
    "            overs_range - (list) 2 member list denoting [start_over, end_over]\n",
    "            against_spin - (boolean) mark it true if you want data only specific to spin. dont mark this if you supply 'against_bowler'\n",
    "            against_pace - (boolean) mark it true if you want data only specific to pace. dont mark this if you supply 'against_bowler'\n",
    "            against_bowler - (int) id of specific bowler to find data against\n",
    "    \"\"\"\n",
    "    \n",
    "    # Grabbing all balls faced by this player\n",
    "    required_balls = df_ball[(df_ball[\"batsman\"] == player) | (df_ball[\"non_striker\"] == player)]\n",
    "    \n",
    "    # Grabbing all matches to map ids\n",
    "    required_matches = df_match\n",
    "    \n",
    "    # Run the required_matches dataframe through each match filter\n",
    "    \n",
    "    if tournaments is not None:\n",
    "        required_matches = required_matches[required_matches['tournament_id'].isin(tournaments)]\n",
    "        \n",
    "    if venue is not None:\n",
    "        required_matches = required_matches[required_matches['venue_id'] == venue]\n",
    "        \n",
    "    if years is not None:\n",
    "        required_matches = required_matches[required_matches['match_date'].str.contains('|'.join(years))]\n",
    "    \n",
    "    match_ids_to_consider = np.array(required_matches['match_id'])\n",
    "    required_balls = required_balls[required_balls['match_id'].isin(match_ids_to_consider)]\n",
    "        \n",
    "    if overs_range is not None:\n",
    "        required_balls = required_balls[(required_balls['ball_number'] >= overs_range[0]) & (required_balls['ball_number'] <= overs_range[1])]\n",
    "    \n",
    "    if against_bowler is not None:\n",
    "        required_balls = required_balls[required_balls['bowler'] == against_bowler]\n",
    "\n",
    "    # TODO\n",
    "    if against_spin is not None:\n",
    "        only_spin = True\n",
    "    \n",
    "    # TODO\n",
    "    if against_pace is not None:\n",
    "        only_pace = True\n",
    "    \n",
    "    required_balls = required_balls[required_balls['player_dismissed'] == player]\n",
    "    \n",
    "    num_dismissals = len(required_balls)\n",
    "        \n",
    "    return num_dismissals"
   ]
  },
  {
   "cell_type": "code",
   "execution_count": 18,
   "metadata": {},
   "outputs": [
    {
     "data": {
      "text/plain": [
       "154"
      ]
     },
     "execution_count": 18,
     "metadata": {},
     "output_type": "execute_result"
    }
   ],
   "source": [
    "dismissals(player=player_id)"
   ]
  },
  {
   "cell_type": "code",
   "execution_count": null,
   "metadata": {},
   "outputs": [],
   "source": []
  },
  {
   "cell_type": "code",
   "execution_count": null,
   "metadata": {},
   "outputs": [],
   "source": []
  },
  {
   "cell_type": "code",
   "execution_count": null,
   "metadata": {},
   "outputs": [],
   "source": []
  },
  {
   "cell_type": "code",
   "execution_count": null,
   "metadata": {},
   "outputs": [],
   "source": []
  }
 ],
 "metadata": {
  "kernelspec": {
   "display_name": "torch",
   "language": "python",
   "name": "torch"
  },
  "language_info": {
   "codemirror_mode": {
    "name": "ipython",
    "version": 3
   },
   "file_extension": ".py",
   "mimetype": "text/x-python",
   "name": "python",
   "nbconvert_exporter": "python",
   "pygments_lexer": "ipython3",
   "version": "3.8.5"
  }
 },
 "nbformat": 4,
 "nbformat_minor": 4
}
